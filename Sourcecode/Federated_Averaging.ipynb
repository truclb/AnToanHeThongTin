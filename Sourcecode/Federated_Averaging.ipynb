{
  "nbformat": 4,
  "nbformat_minor": 0,
  "metadata": {
    "colab": {
      "provenance": []
    },
    "kernelspec": {
      "name": "python3",
      "display_name": "Python 3"
    },
    "language_info": {
      "name": "python"
    }
  },
  "cells": [
    {
      "cell_type": "code",
      "execution_count": 1,
      "metadata": {
        "colab": {
          "base_uri": "https://localhost:8080/"
        },
        "id": "D7TqEZG0JhSH",
        "outputId": "bfbda876-d340-4cbe-a919-647946b13c14"
      },
      "outputs": [
        {
          "output_type": "stream",
          "name": "stdout",
          "text": [
            "Mounted at /content/drive\n"
          ]
        }
      ],
      "source": [
        "# Connect Driver\n",
        "from google.colab import drive\n",
        "drive.mount('/content/drive')"
      ]
    },
    {
      "cell_type": "code",
      "source": [
        "import pandas as pd\n",
        "import numpy as np\n",
        "from sklearn.preprocessing import StandardScaler, LabelEncoder\n",
        "from sklearn.neural_network import MLPClassifier\n",
        "from sklearn.metrics import accuracy_score, confusion_matrix, ConfusionMatrixDisplay\n",
        "import matplotlib.pyplot as plt"
      ],
      "metadata": {
        "id": "d_3ijW0xJvG0"
      },
      "execution_count": 2,
      "outputs": []
    },
    {
      "cell_type": "code",
      "source": [
        "CSV_HEADER=['Flow Duration', 'Total Fwd Packet', 'Total Bwd packets',\n",
        "       'Total Length of Fwd Packet', 'Total Length of Bwd Packet',\n",
        "       'Fwd Packet Length Max', 'Fwd Packet Length Min',\n",
        "       'Fwd Packet Length Mean', 'Fwd Packet Length Std',\n",
        "       'Bwd Packet Length Max', 'Bwd Packet Length Min',\n",
        "       'Bwd Packet Length Mean', 'Bwd Packet Length Std', 'Flow Bytes/s',\n",
        "       'Flow Packets/s', 'Flow IAT Mean', 'Flow IAT Std', 'Flow IAT Max',\n",
        "       'Flow IAT Min', 'Fwd IAT Total', 'Fwd IAT Mean', 'Fwd IAT Std',\n",
        "       'Fwd IAT Max', 'Fwd IAT Min', 'Bwd IAT Total', 'Bwd IAT Mean',\n",
        "       'Bwd IAT Std', 'Bwd IAT Max', 'Bwd IAT Min', 'Fwd PSH Flags',\n",
        "       'Bwd PSH Flags', 'Fwd URG Flags', 'Bwd URG Flags', 'Fwd Header Length',\n",
        "       'Bwd Header Length', 'Fwd Packets/s', 'Bwd Packets/s',\n",
        "       'Packet Length Min', 'Packet Length Max', 'Packet Length Mean',\n",
        "       'Packet Length Std', 'Packet Length Variance', 'FIN Flag Count',\n",
        "       'SYN Flag Count', 'RST Flag Count', 'PSH Flag Count', 'ACK Flag Count',\n",
        "       'URG Flag Count', 'CWR Flag Count', 'ECE Flag Count', 'Down/Up Ratio',\n",
        "       'Average Packet Size', 'Fwd Segment Size Avg', 'Bwd Segment Size Avg',\n",
        "       'Fwd Bytes/Bulk Avg', 'Fwd Packet/Bulk Avg', 'Fwd Bulk Rate Avg',\n",
        "       'Bwd Bytes/Bulk Avg', 'Bwd Packet/Bulk Avg', 'Bwd Bulk Rate Avg',\n",
        "       'Subflow Fwd Packets', 'Subflow Fwd Bytes', 'Subflow Bwd Packets',\n",
        "       'Subflow Bwd Bytes', 'FWD Init Win Bytes', 'Bwd Init Win Bytes',\n",
        "       'Fwd Act Data Pkts', 'Fwd Seg Size Min', 'Active Mean', 'Active Std',\n",
        "       'Active Max', 'Active Min', 'Idle Mean', 'Idle Std', 'Idle Max',\n",
        "       'Idle Min', 'Label', 'attack_cat'] # bo Src_IP, Dst_IP, Timestamp, {'Flow ID', 'Src Port', 'Dst Port', 'Protocol'}\n",
        "CSV_HEADER_WITHOUT_LABEL = ['Flow Duration', 'Total Fwd Packet', 'Total Bwd packets',\n",
        "       'Total Length of Fwd Packet', 'Total Length of Bwd Packet',\n",
        "       'Fwd Packet Length Max', 'Fwd Packet Length Min',\n",
        "       'Fwd Packet Length Mean', 'Fwd Packet Length Std',\n",
        "       'Bwd Packet Length Max', 'Bwd Packet Length Min',\n",
        "       'Bwd Packet Length Mean', 'Bwd Packet Length Std', 'Flow Bytes/s',\n",
        "       'Flow Packets/s', 'Flow IAT Mean', 'Flow IAT Std', 'Flow IAT Max',\n",
        "       'Flow IAT Min', 'Fwd IAT Total', 'Fwd IAT Mean', 'Fwd IAT Std',\n",
        "       'Fwd IAT Max', 'Fwd IAT Min', 'Bwd IAT Total', 'Bwd IAT Mean',\n",
        "       'Bwd IAT Std', 'Bwd IAT Max', 'Bwd IAT Min', 'Fwd PSH Flags',\n",
        "       'Bwd PSH Flags', 'Fwd URG Flags', 'Bwd URG Flags', 'Fwd Header Length',\n",
        "       'Bwd Header Length', 'Fwd Packets/s', 'Bwd Packets/s',\n",
        "       'Packet Length Min', 'Packet Length Max', 'Packet Length Mean',\n",
        "       'Packet Length Std', 'Packet Length Variance', 'FIN Flag Count',\n",
        "       'SYN Flag Count', 'RST Flag Count', 'PSH Flag Count', 'ACK Flag Count',\n",
        "       'URG Flag Count', 'CWR Flag Count', 'ECE Flag Count', 'Down/Up Ratio',\n",
        "       'Average Packet Size', 'Fwd Segment Size Avg', 'Bwd Segment Size Avg',\n",
        "       'Fwd Bytes/Bulk Avg', 'Fwd Packet/Bulk Avg', 'Fwd Bulk Rate Avg',\n",
        "       'Bwd Bytes/Bulk Avg', 'Bwd Packet/Bulk Avg', 'Bwd Bulk Rate Avg',\n",
        "       'Subflow Fwd Packets', 'Subflow Fwd Bytes', 'Subflow Bwd Packets',\n",
        "       'Subflow Bwd Bytes', 'FWD Init Win Bytes', 'Bwd Init Win Bytes',\n",
        "       'Fwd Act Data Pkts', 'Fwd Seg Size Min', 'Active Mean', 'Active Std',\n",
        "       'Active Max', 'Active Min', 'Idle Mean', 'Idle Std', 'Idle Max',\n",
        "       'Idle Min']\n",
        "\n",
        "# Bảng mã hóa\n",
        "encoded_to_original = {\n",
        "    0: 'Benign',\n",
        "    1: 'Analysis',\n",
        "    2: 'Backdoor',\n",
        "    3: 'DoS',\n",
        "    4: 'Exploits',\n",
        "    5: 'Fuzzers',\n",
        "    6: 'Generic',\n",
        "    7: 'Reconnaissance',\n",
        "    8: 'Shellcode',\n",
        "    9: 'Worms'\n",
        "}\n",
        "# decoded_labels = [encoded_to_original[label] for label in y_pred]\n",
        "# decoded_labels"
      ],
      "metadata": {
        "id": "eZnsLnPGJ0mM"
      },
      "execution_count": 3,
      "outputs": []
    },
    {
      "cell_type": "code",
      "source": [
        "!pip install flwr\n"
      ],
      "metadata": {
        "colab": {
          "base_uri": "https://localhost:8080/"
        },
        "collapsed": true,
        "id": "BZEEmxMGJ2XD",
        "outputId": "40f185a7-7e55-4f16-da52-53aa47638290"
      },
      "execution_count": 5,
      "outputs": [
        {
          "output_type": "stream",
          "name": "stdout",
          "text": [
            "Requirement already satisfied: flwr in /usr/local/lib/python3.10/dist-packages (1.13.1)\n",
            "Requirement already satisfied: cryptography<43.0.0,>=42.0.4 in /usr/local/lib/python3.10/dist-packages (from flwr) (42.0.8)\n",
            "Requirement already satisfied: grpcio!=1.64.2,<2.0.0,<=1.64.3,>=1.60.0 in /usr/local/lib/python3.10/dist-packages (from flwr) (1.64.3)\n",
            "Requirement already satisfied: iterators<0.0.3,>=0.0.2 in /usr/local/lib/python3.10/dist-packages (from flwr) (0.0.2)\n",
            "Requirement already satisfied: numpy<3.0.0,>=1.26.0 in /usr/local/lib/python3.10/dist-packages (from flwr) (1.26.4)\n",
            "Requirement already satisfied: pathspec<0.13.0,>=0.12.1 in /usr/local/lib/python3.10/dist-packages (from flwr) (0.12.1)\n",
            "Requirement already satisfied: protobuf<5.0.0,>=4.25.2 in /usr/local/lib/python3.10/dist-packages (from flwr) (4.25.5)\n",
            "Requirement already satisfied: pycryptodome<4.0.0,>=3.18.0 in /usr/local/lib/python3.10/dist-packages (from flwr) (3.21.0)\n",
            "Requirement already satisfied: rich<14.0.0,>=13.5.0 in /usr/local/lib/python3.10/dist-packages (from flwr) (13.9.4)\n",
            "Requirement already satisfied: tomli<3.0.0,>=2.0.1 in /usr/local/lib/python3.10/dist-packages (from flwr) (2.2.1)\n",
            "Requirement already satisfied: tomli-w<2.0.0,>=1.0.0 in /usr/local/lib/python3.10/dist-packages (from flwr) (1.1.0)\n",
            "Requirement already satisfied: typer<0.13.0,>=0.12.5 in /usr/local/lib/python3.10/dist-packages (from flwr) (0.12.5)\n",
            "Requirement already satisfied: cffi>=1.12 in /usr/local/lib/python3.10/dist-packages (from cryptography<43.0.0,>=42.0.4->flwr) (1.17.1)\n",
            "Requirement already satisfied: markdown-it-py>=2.2.0 in /usr/local/lib/python3.10/dist-packages (from rich<14.0.0,>=13.5.0->flwr) (3.0.0)\n",
            "Requirement already satisfied: pygments<3.0.0,>=2.13.0 in /usr/local/lib/python3.10/dist-packages (from rich<14.0.0,>=13.5.0->flwr) (2.18.0)\n",
            "Requirement already satisfied: typing-extensions<5.0,>=4.0.0 in /usr/local/lib/python3.10/dist-packages (from rich<14.0.0,>=13.5.0->flwr) (4.12.2)\n",
            "Requirement already satisfied: click>=8.0.0 in /usr/local/lib/python3.10/dist-packages (from typer<0.13.0,>=0.12.5->flwr) (8.1.7)\n",
            "Requirement already satisfied: shellingham>=1.3.0 in /usr/local/lib/python3.10/dist-packages (from typer<0.13.0,>=0.12.5->flwr) (1.5.4)\n",
            "Requirement already satisfied: pycparser in /usr/local/lib/python3.10/dist-packages (from cffi>=1.12->cryptography<43.0.0,>=42.0.4->flwr) (2.22)\n",
            "Requirement already satisfied: mdurl~=0.1 in /usr/local/lib/python3.10/dist-packages (from markdown-it-py>=2.2.0->rich<14.0.0,>=13.5.0->flwr) (0.1.2)\n"
          ]
        }
      ]
    },
    {
      "cell_type": "code",
      "source": [
        "import pandas as pd\n",
        "from sklearn.model_selection import train_test_split\n",
        "from sklearn.preprocessing import StandardScaler\n",
        "from sklearn.linear_model import LogisticRegression\n",
        "from sklearn.metrics import accuracy_score, precision_score, recall_score, f1_score, confusion_matrix, classification_report\n"
      ],
      "metadata": {
        "id": "kpc3Q0utOhAn"
      },
      "execution_count": 10,
      "outputs": []
    },
    {
      "cell_type": "code",
      "source": [
        "df = pd.read_csv(\"/content/drive/MyDrive/ATHTTT/CIC_UNSW-LABEL_Attack_cat.csv\")\n",
        "df = df.drop(['attack_cat'], axis=1)\n",
        "\n",
        "scaler = StandardScaler()\n",
        "scaler.fit(df[CSV_HEADER_WITHOUT_LABEL])\n",
        "df[CSV_HEADER_WITHOUT_LABEL] = scaler.transform(df[CSV_HEADER_WITHOUT_LABEL])\n",
        "\n",
        "# Chia dữ liệu thành train/test\n",
        "train_data, test_data = train_test_split(df, test_size=0.2)\n",
        "train_data_1, train_data_2 = train_test_split(train_data, test_size=0.5)\n",
        "\n",
        "# Lưu dữ liệu vào các tệp\n",
        "train_data_1.to_csv(\"train_data_1.csv\", index=False, header=True)\n",
        "train_data_2.to_csv(\"train_data_2.csv\", index=False, header=True)\n",
        "train_data.to_csv(\"train_data.csv\", index=False, header=True)\n",
        "test_data.to_csv(\"test_data.csv\", index=False, header=True)\n",
        "\n",
        "# Xác định đặc trưng (X) và nhãn (y)\n",
        "X_train_1 = train_data_1[CSV_HEADER_WITHOUT_LABEL]\n",
        "y_train_1 = train_data_1['Label']\n",
        "\n",
        "X_train_2 = train_data_2[CSV_HEADER_WITHOUT_LABEL]\n",
        "y_train_2 = train_data_2['Label']\n",
        "\n",
        "X_test = test_data[CSV_HEADER_WITHOUT_LABEL]\n",
        "y_test = test_data['Label']\n",
        "\n",
        "# Huấn luyện mô hình Logistic Regression cho client 1 và client 2\n",
        "model_1 = LogisticRegression(max_iter=1000)\n",
        "model_1.fit(X_train_1, y_train_1)\n",
        "\n",
        "model_2 = LogisticRegression(max_iter=1000)\n",
        "model_2.fit(X_train_2, y_train_2)\n",
        "\n",
        "# Lấy các tham số từ mô hình của mỗi client\n",
        "coef_1 = model_1.coef_\n",
        "intercept_1 = model_1.intercept_\n",
        "\n",
        "coef_2 = model_2.coef_\n",
        "intercept_2 = model_2.intercept_\n",
        "\n",
        "# Tổng hợp trọng số theo công thức Federated Averaging (FedAvg) mà không tính trọng số\n",
        "avg_coef = (coef_1 + coef_2) / 2\n",
        "avg_intercept = (intercept_1 + intercept_2) / 2\n",
        "\n",
        "# Tạo mô hình mới với trọng số tổng hợp\n",
        "model_avg = LogisticRegression()\n",
        "model_avg.coef_ = avg_coef\n",
        "model_avg.intercept_ = avg_intercept\n",
        "model_avg.classes_ = model_1.classes_  # hoặc model_2.classes_, vì chúng phải giống nhau\n",
        "\n",
        "# Dự đoán và đánh giá mô hình trên tập test\n",
        "y_pred = model_avg.predict(X_test)\n",
        "accuracy = accuracy_score(y_test, y_pred)\n",
        "print(f\"Accuracy of Federated Averaging model: {accuracy}\")\n",
        "\n",
        "# Đánh giá hiệu suất mô hình\n",
        "precision = precision_score(y_test, y_pred, average='weighted', labels=np.unique(y_pred))\n",
        "recall = recall_score(y_test, y_pred, average='weighted', labels=np.unique(y_pred))\n",
        "f1 = f1_score(y_test, y_pred, average='weighted', labels=np.unique(y_pred))\n",
        "\n",
        "print(f\"Accuracy: {accuracy * 100:.2f}%\")\n",
        "print(f\"Precision: {precision:.2f}\")\n",
        "print(f\"Recall: {recall:.2f}\")\n",
        "print(f\"F1-score: {f1:.2f}\")\n",
        "\n",
        "# Tính Confusion Matrix\n",
        "conf_matrix = confusion_matrix(y_test, y_pred)\n",
        "print(\"\\nConfusion Matrix:\")\n",
        "print(conf_matrix)\n",
        "\n",
        "# In báo cáo phân loại (classification report)\n",
        "report = classification_report(y_test, y_pred, target_names=encoded_to_original.values())\n",
        "print(\"\\nClassification Report:\\n\", report)\n"
      ],
      "metadata": {
        "colab": {
          "base_uri": "https://localhost:8080/"
        },
        "id": "HD_AobVKLbUq",
        "outputId": "a30fd2b6-5df1-47fe-b4fb-93649eb78261"
      },
      "execution_count": 11,
      "outputs": [
        {
          "output_type": "stream",
          "name": "stderr",
          "text": [
            "/usr/local/lib/python3.10/dist-packages/sklearn/base.py:486: UserWarning: X has feature names, but LogisticRegression was fitted without feature names\n",
            "  warnings.warn(\n"
          ]
        },
        {
          "output_type": "stream",
          "name": "stdout",
          "text": [
            "Accuracy of Federated Averaging model: 0.8989428797874597\n",
            "Accuracy: 89.89%\n",
            "Precision: 0.92\n",
            "Recall: 0.90\n",
            "F1-score: 0.90\n",
            "\n",
            "Confusion Matrix:\n",
            "[[69904     0     0     0   253  1525     8   139     0     0]\n",
            " [    2     0     0     0    71     1     1     0     0     0]\n",
            " [    4     0     2     0    32    50     2     4     0     0]\n",
            " [   11     0     0    11   467   341     3    44     0     0]\n",
            " [   48     0     0     2  3830  2121    60    81     0     0]\n",
            " [   19     0     0     0   431  4685    11   676     0     0]\n",
            " [   19     0     0     1   346   310   215    18     0     0]\n",
            " [  102     0     0     0    35  1331     0  1883     0     0]\n",
            " [    3     0     0     0     8   308     0   113     0     0]\n",
            " [    1     0     0     0    27    24     0     0     0     0]]\n",
            "\n",
            "Classification Report:\n",
            "                 precision    recall  f1-score   support\n",
            "\n",
            "        Benign       1.00      0.97      0.98     71829\n",
            "      Analysis       0.00      0.00      0.00        75\n",
            "      Backdoor       1.00      0.02      0.04        94\n",
            "           DoS       0.79      0.01      0.02       877\n",
            "      Exploits       0.70      0.62      0.66      6142\n",
            "       Fuzzers       0.44      0.80      0.57      5822\n",
            "       Generic       0.72      0.24      0.36       909\n",
            "Reconnaissance       0.64      0.56      0.60      3351\n",
            "     Shellcode       0.00      0.00      0.00       432\n",
            "         Worms       0.00      0.00      0.00        52\n",
            "\n",
            "      accuracy                           0.90     89583\n",
            "     macro avg       0.53      0.32      0.32     89583\n",
            "  weighted avg       0.92      0.90      0.90     89583\n",
            "\n"
          ]
        },
        {
          "output_type": "stream",
          "name": "stderr",
          "text": [
            "/usr/local/lib/python3.10/dist-packages/sklearn/metrics/_classification.py:1531: UndefinedMetricWarning: Precision is ill-defined and being set to 0.0 in labels with no predicted samples. Use `zero_division` parameter to control this behavior.\n",
            "  _warn_prf(average, modifier, f\"{metric.capitalize()} is\", len(result))\n",
            "/usr/local/lib/python3.10/dist-packages/sklearn/metrics/_classification.py:1531: UndefinedMetricWarning: Precision is ill-defined and being set to 0.0 in labels with no predicted samples. Use `zero_division` parameter to control this behavior.\n",
            "  _warn_prf(average, modifier, f\"{metric.capitalize()} is\", len(result))\n",
            "/usr/local/lib/python3.10/dist-packages/sklearn/metrics/_classification.py:1531: UndefinedMetricWarning: Precision is ill-defined and being set to 0.0 in labels with no predicted samples. Use `zero_division` parameter to control this behavior.\n",
            "  _warn_prf(average, modifier, f\"{metric.capitalize()} is\", len(result))\n"
          ]
        }
      ]
    }
  ]
}