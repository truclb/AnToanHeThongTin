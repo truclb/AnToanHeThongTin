{
 "cells": [
  {
   "cell_type": "code",
   "execution_count": 1,
   "metadata": {
    "colab": {
     "base_uri": "https://localhost:8080/"
    },
    "id": "HqFryjXPGjRT",
    "outputId": "438a10ac-43fe-4af1-c971-00df2a7c3477"
   },
   "outputs": [
    {
     "name": "stdout",
     "output_type": "stream",
     "text": [
      "Mounted at /content/drive\n"
     ]
    }
   ],
   "source": [
    "\n",
    "# Connect Driver\n",
    "from google.colab import drive\n",
    "drive.mount('/content/drive')"
   ]
  },
  {
   "cell_type": "code",
   "execution_count": 9,
   "metadata": {
    "id": "vtQcaL2WGNkX"
   },
   "outputs": [],
   "source": [
    "import pandas as pd\n",
    "import numpy as np\n",
    "from sklearn.preprocessing import StandardScaler, LabelEncoder\n",
    "from sklearn.neural_network import MLPClassifier\n",
    "from sklearn.metrics import accuracy_score, confusion_matrix, ConfusionMatrixDisplay\n",
    "import matplotlib.pyplot as plt\n",
    "\n",
    "# CSV_HEADER: Danh sách các cột mà bạn muốn giữ lại\n",
    "CSV_HEADER = [\n",
    "    \"dur\", \"proto\", \"service\", \"state\", \"spkts\", \"dpkts\", \"sbytes\", \"dbytes\", \"rate\", \"sttl\", \"dttl\",\n",
    "    \"sload\", \"dload\", \"sloss\", \"dloss\", \"sinpkt\", \"dinpkt\", \"sjit\", \"djit\", \"swin\", \"stcpb\", \"dtcpb\",\n",
    "    \"dwin\", \"tcprtt\", \"synack\", \"ackdat\", \"smean\", \"dmean\", \"trans_depth\", \"response_body_len\",\n",
    "    \"ct_srv_src\", \"ct_state_ttl\", \"ct_dst_ltm\", \"ct_src_dport_ltm\", \"ct_dst_sport_ltm\",\n",
    "    \"ct_dst_src_ltm\", \"is_ftp_login\", \"ct_ftp_cmd\", \"ct_flw_http_mthd\", \"ct_src_ltm\",\n",
    "    \"ct_srv_dst\", \"is_sm_ips_ports\", \"label\"\n",
    "]\n",
    "\n",
    "# Đọc dữ liệu từ các file CSV\n",
    "train_data = pd.read_csv(\"/content/drive/MyDrive/BT3/UNSW_NB15_testing-set.csv\", usecols=CSV_HEADER)\n",
    "test_data = pd.read_csv(\"/content/drive/MyDrive/BT3/UNSW_NB15_testing-set.csv\", usecols=CSV_HEADER)\n",
    "\n",
    "# Chuyển các cột dạng categorical thành one-hot encoding\n",
    "categorical_columns = ['proto', 'service', 'state']  # Chỉ mã hóa các cột categorical (không bao gồm 'label')\n",
    "for col in categorical_columns:\n",
    "    train_data[col] = train_data[col].astype('category')\n",
    "    test_data[col] = test_data[col].astype('category')\n",
    "\n",
    "# Sử dụng one-hot encoding cho các cột categorical\n",
    "train_data = pd.get_dummies(train_data, columns=categorical_columns)\n",
    "test_data = pd.get_dummies(test_data, columns=categorical_columns)\n",
    "\n",
    "# Đảm bảo bộ dữ liệu kiểm tra có các cột giống như bộ dữ liệu huấn luyện\n",
    "test_data = test_data.reindex(columns=train_data.columns, fill_value=0)\n",
    "\n",
    "# Mã hóa nhãn thành số (Label Encoding) trước khi one-hot encoding\n",
    "label_encoder = LabelEncoder()\n",
    "train_data['label'] = label_encoder.fit_transform(train_data['label'])\n",
    "test_data['label'] = label_encoder.transform(test_data['label'])\n",
    "\n",
    "# Tách các tính năng (features) và nhãn (labels)\n",
    "X_train = train_data.drop(columns=['label'])  # Loại bỏ cột nhãn\n",
    "y_train = train_data['label']\n",
    "X_test = test_data.drop(columns=['label'])\n",
    "y_test = test_data['label']\n",
    "\n",
    "# Tiền xử lý dữ liệu (Điền giá trị thiếu, chuẩn hóa, v.v...)\n",
    "X_train = X_train.fillna(X_train.mean())  # Điền giá trị thiếu bằng giá trị trung bình\n",
    "X_test = X_test.fillna(X_test.mean())\n",
    "\n",
    "# Chuẩn hóa dữ liệu\n",
    "scaler = StandardScaler()\n",
    "X_train = scaler.fit_transform(X_train)\n",
    "X_test = scaler.transform(X_test)\n"
   ]
  },
  {
   "cell_type": "code",
   "execution_count": null,
   "metadata": {
    "colab": {
     "base_uri": "https://localhost:8080/",
     "height": 665
    },
    "id": "LJT_5caQIAMU",
    "outputId": "6226b8d3-a81f-4dab-a1ad-cec183b685ef"
   },
   "outputs": [
    {
     "name": "stderr",
     "output_type": "stream",
     "text": [
      "/usr/local/lib/python3.10/dist-packages/numpy/core/fromnumeric.py:59: FutureWarning: 'Series.swapaxes' is deprecated and will be removed in a future version. Please use 'Series.transpose' instead.\n",
      "  return bound(*args, **kwds)\n",
      "/usr/local/lib/python3.10/dist-packages/sklearn/neural_network/_multilayer_perceptron.py:690: ConvergenceWarning: Stochastic Optimizer: Maximum iterations (50) reached and the optimization hasn't converged yet.\n",
      "  warnings.warn(\n",
      "/usr/local/lib/python3.10/dist-packages/sklearn/neural_network/_multilayer_perceptron.py:690: ConvergenceWarning: Stochastic Optimizer: Maximum iterations (50) reached and the optimization hasn't converged yet.\n",
      "  warnings.warn(\n",
      "/usr/local/lib/python3.10/dist-packages/sklearn/neural_network/_multilayer_perceptron.py:690: ConvergenceWarning: Stochastic Optimizer: Maximum iterations (50) reached and the optimization hasn't converged yet.\n",
      "  warnings.warn(\n",
      "/usr/local/lib/python3.10/dist-packages/sklearn/neural_network/_multilayer_perceptron.py:690: ConvergenceWarning: Stochastic Optimizer: Maximum iterations (1) reached and the optimization hasn't converged yet.\n",
      "  warnings.warn(\n"
     ]
    },
    {
     "name": "stdout",
     "output_type": "stream",
     "text": [
      "Accuracy of the global model after FedAvg: 0.8187339066219695\n"
     ]
    },
    {
     "data": {
      "image/png": "[encoded data removed]",
      "text/plain": [
       "<Figure size 640x480 with 2 Axes>"
      ]
     },
     "metadata": {},
     "output_type": "display_data"
    }
   ],
   "source": [
    "import numpy as np\n",
    "from sklearn.neural_network import MLPClassifier\n",
    "from sklearn.metrics import accuracy_score, confusion_matrix, ConfusionMatrixDisplay\n",
    "import matplotlib.pyplot as plt\n",
    "\n",
    "# Giả sử chia dữ liệu cho các client\n",
    "num_clients = 3  # Giả sử có 3 client\n",
    "X_train_split = np.array_split(X_train, num_clients)\n",
    "y_train_split = np.array_split(y_train, num_clients)\n",
    "\n",
    "# Huấn luyện mô hình cho mỗi client\n",
    "client_models = []\n",
    "client_weights = []\n",
    "for i in range(num_clients):\n",
    "    model = MLPClassifier(hidden_layer_sizes=(32, 16), max_iter=50, random_state=42)\n",
    "    model.fit(X_train_split[i], y_train_split[i])\n",
    "    client_models.append(model)\n",
    "    client_weights.append(model.coefs_)  # Lưu trọng số của mô hình\n",
    "\n",
    "# Thu thập kích thước dữ liệu từ các client\n",
    "client_data_sizes = [len(y) for y in y_train_split]\n",
    "\n",
    "# Hàm tổng hợp trọng số (FedAvg)\n",
    "def weighted_federated_averaging(client_weights, client_data_sizes):\n",
    "    \"\"\"\n",
    "    Thực hiện FedAvg để tổng hợp trọng số mô hình.\n",
    "    \"\"\"\n",
    "    total_data = sum(client_data_sizes)\n",
    "    # Trung bình trọng số\n",
    "    aggregated_weights = []\n",
    "    for weights in zip(*client_weights):  # Lặp qua từng lớp trọng số\n",
    "        aggregated_weights.append(\n",
    "            sum((data_size / total_data) * layer for layer, data_size in zip(weights, client_data_sizes))\n",
    "        )\n",
    "    return aggregated_weights\n",
    "import numpy as np\n",
    "\n",
    "#median_federated_averaging\n",
    "def median_federated_averaging(client_weights):\n",
    "    aggregated_weights = []\n",
    "    for weights in zip(*client_weights):\n",
    "        weight_array = np.array(weights)  \n",
    "        median_weights = np.median(weight_array, axis=0)\n",
    "        aggregated_weights.append(median_weights)\n",
    "    return aggregated_weights\n",
    "\n",
    "# Thực hiện FedAvg để tạo mô hình toàn cục\n",
    "global_weights = weighted_federated_averaging(client_weights, client_data_sizes)\n",
    "\n",
    "# Khởi tạo một mô hình toàn cục\n",
    "global_model = MLPClassifier(hidden_layer_sizes=(32, 16), max_iter=1, random_state=42, warm_start=True)\n",
    "global_model.fit(X_train, y_train)  # Cần chạy một lần để khởi tạo các lớp mô hình\n",
    "global_model.coefs_ = global_weights  # Cập nhật trọng số với kết quả từ FedAvg\n",
    "\n",
    "# Đánh giá mô hình toàn cục trên tập kiểm tra\n",
    "y_pred = global_model.predict(X_test)\n",
    "accuracy = accuracy_score(y_test, y_pred)\n",
    "print(\"Accuracy of the global model after FedAvg:\", accuracy)\n",
    "\n",
    "# Hiển thị ma trận nhầm lẫn\n",
    "cm = confusion_matrix(y_test, y_pred)\n",
    "ConfusionMatrixDisplay(confusion_matrix=cm).plot()\n",
    "plt.show()\n"
   ]
  }
 ],
 "metadata": {
  "colab": {
   "provenance": []
  },
  "kernelspec": {
   "display_name": "Python 3",
   "name": "python3"
  },
  "language_info": {
   "name": "python"
  }
 },
 "nbformat": 4,
 "nbformat_minor": 0
}
