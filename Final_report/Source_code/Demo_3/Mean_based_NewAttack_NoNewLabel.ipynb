{
  "nbformat": 4,
  "nbformat_minor": 0,
  "metadata": {
    "colab": {
      "provenance": []
    },
    "kernelspec": {
      "name": "python3",
      "display_name": "Python 3"
    },
    "language_info": {
      "name": "python"
    }
  },
  "cells": [
    {
      "cell_type": "markdown",
      "source": [
        "Thực hiện chạy từ trên xuống dưới\n",
        "sử dụng lệnh del <tên_model> để xóa model trước khi train"
      ],
      "metadata": {
        "id": "ucVNNRQ90X-i"
      }
    },
    {
      "cell_type": "code",
      "execution_count": 2,
      "metadata": {
        "colab": {
          "base_uri": "https://localhost:8080/"
        },
        "id": "17rF5sex6XhC",
        "outputId": "5742a53f-e8a4-4503-d229-f119d0be3ef3"
      },
      "outputs": [
        {
          "output_type": "stream",
          "name": "stdout",
          "text": [
            "Mounted at /content/drive\n"
          ]
        }
      ],
      "source": [
        "# Connect Driver\n",
        "from google.colab import drive\n",
        "drive.mount('/content/drive')"
      ]
    },
    {
      "cell_type": "markdown",
      "source": [
        "# Bước 1 - Add các thư viện cần thiết và khai báo Features"
      ],
      "metadata": {
        "id": "Z1Ea03RCywsq"
      }
    },
    {
      "cell_type": "code",
      "source": [
        "import pandas as pd\n",
        "import numpy as np\n",
        "from sklearn.preprocessing import StandardScaler, LabelEncoder\n",
        "from sklearn.neural_network import MLPClassifier\n",
        "from sklearn.metrics import accuracy_score, confusion_matrix, ConfusionMatrixDisplay\n",
        "import matplotlib.pyplot as plt"
      ],
      "metadata": {
        "id": "mkXR6awH6fkO"
      },
      "execution_count": 17,
      "outputs": []
    },
    {
      "cell_type": "code",
      "source": [
        "CSV_HEADER=['Flow Duration', 'Total Fwd Packet', 'Total Bwd packets',\n",
        "       'Total Length of Fwd Packet', 'Total Length of Bwd Packet',\n",
        "       'Fwd Packet Length Max', 'Fwd Packet Length Min',\n",
        "       'Fwd Packet Length Mean', 'Fwd Packet Length Std',\n",
        "       'Bwd Packet Length Max', 'Bwd Packet Length Min',\n",
        "       'Bwd Packet Length Mean', 'Bwd Packet Length Std', 'Flow Bytes/s',\n",
        "       'Flow Packets/s', 'Flow IAT Mean', 'Flow IAT Std', 'Flow IAT Max',\n",
        "       'Flow IAT Min', 'Fwd IAT Total', 'Fwd IAT Mean', 'Fwd IAT Std',\n",
        "       'Fwd IAT Max', 'Fwd IAT Min', 'Bwd IAT Total', 'Bwd IAT Mean',\n",
        "       'Bwd IAT Std', 'Bwd IAT Max', 'Bwd IAT Min', 'Fwd PSH Flags',\n",
        "       'Bwd PSH Flags', 'Fwd URG Flags', 'Bwd URG Flags', 'Fwd Header Length',\n",
        "       'Bwd Header Length', 'Fwd Packets/s', 'Bwd Packets/s',\n",
        "       'Packet Length Min', 'Packet Length Max', 'Packet Length Mean',\n",
        "       'Packet Length Std', 'Packet Length Variance', 'FIN Flag Count',\n",
        "       'SYN Flag Count', 'RST Flag Count', 'PSH Flag Count', 'ACK Flag Count',\n",
        "       'URG Flag Count', 'CWR Flag Count', 'ECE Flag Count', 'Down/Up Ratio',\n",
        "       'Average Packet Size', 'Fwd Segment Size Avg', 'Bwd Segment Size Avg',\n",
        "       'Fwd Bytes/Bulk Avg', 'Fwd Packet/Bulk Avg', 'Fwd Bulk Rate Avg',\n",
        "       'Bwd Bytes/Bulk Avg', 'Bwd Packet/Bulk Avg', 'Bwd Bulk Rate Avg',\n",
        "       'Subflow Fwd Packets', 'Subflow Fwd Bytes', 'Subflow Bwd Packets',\n",
        "       'Subflow Bwd Bytes', 'FWD Init Win Bytes', 'Bwd Init Win Bytes',\n",
        "       'Fwd Act Data Pkts', 'Fwd Seg Size Min', 'Active Mean', 'Active Std',\n",
        "       'Active Max', 'Active Min', 'Idle Mean', 'Idle Std', 'Idle Max',\n",
        "       'Idle Min', 'Label', 'attack_cat'] # bo Src_IP, Dst_IP, Timestamp, {'Flow ID', 'Src Port', 'Dst Port', 'Protocol'}\n",
        "CSV_HEADER_WITHOUT_LABEL = ['Flow Duration', 'Total Fwd Packet', 'Total Bwd packets',\n",
        "       'Total Length of Fwd Packet', 'Total Length of Bwd Packet',\n",
        "       'Fwd Packet Length Max', 'Fwd Packet Length Min',\n",
        "       'Fwd Packet Length Mean', 'Fwd Packet Length Std',\n",
        "       'Bwd Packet Length Max', 'Bwd Packet Length Min',\n",
        "       'Bwd Packet Length Mean', 'Bwd Packet Length Std', 'Flow Bytes/s',\n",
        "       'Flow Packets/s', 'Flow IAT Mean', 'Flow IAT Std', 'Flow IAT Max',\n",
        "       'Flow IAT Min', 'Fwd IAT Total', 'Fwd IAT Mean', 'Fwd IAT Std',\n",
        "       'Fwd IAT Max', 'Fwd IAT Min', 'Bwd IAT Total', 'Bwd IAT Mean',\n",
        "       'Bwd IAT Std', 'Bwd IAT Max', 'Bwd IAT Min', 'Fwd PSH Flags',\n",
        "       'Bwd PSH Flags', 'Fwd URG Flags', 'Bwd URG Flags', 'Fwd Header Length',\n",
        "       'Bwd Header Length', 'Fwd Packets/s', 'Bwd Packets/s',\n",
        "       'Packet Length Min', 'Packet Length Max', 'Packet Length Mean',\n",
        "       'Packet Length Std', 'Packet Length Variance', 'FIN Flag Count',\n",
        "       'SYN Flag Count', 'RST Flag Count', 'PSH Flag Count', 'ACK Flag Count',\n",
        "       'URG Flag Count', 'CWR Flag Count', 'ECE Flag Count', 'Down/Up Ratio',\n",
        "       'Average Packet Size', 'Fwd Segment Size Avg', 'Bwd Segment Size Avg',\n",
        "       'Fwd Bytes/Bulk Avg', 'Fwd Packet/Bulk Avg', 'Fwd Bulk Rate Avg',\n",
        "       'Bwd Bytes/Bulk Avg', 'Bwd Packet/Bulk Avg', 'Bwd Bulk Rate Avg',\n",
        "       'Subflow Fwd Packets', 'Subflow Fwd Bytes', 'Subflow Bwd Packets',\n",
        "       'Subflow Bwd Bytes', 'FWD Init Win Bytes', 'Bwd Init Win Bytes',\n",
        "       'Fwd Act Data Pkts', 'Fwd Seg Size Min', 'Active Mean', 'Active Std',\n",
        "       'Active Max', 'Active Min', 'Idle Mean', 'Idle Std', 'Idle Max',\n",
        "       'Idle Min']\n",
        "\n",
        "# Bảng mã hóa\n",
        "encoded_to_original = {\n",
        "    0: 'Benign',\n",
        "    1: 'Analysis',\n",
        "    2: 'Backdoor',\n",
        "    3: 'DoS',\n",
        "    4: 'Exploits',\n",
        "    5: 'Fuzzers',\n",
        "    6: 'Generic',\n",
        "    7: 'Reconnaissance',\n",
        "    8: 'Shellcode',\n",
        "    9: 'Worms'\n",
        "}\n",
        "# decoded_labels = [encoded_to_original[label] for label in y_pred]\n",
        "# decoded_labels"
      ],
      "metadata": {
        "id": "tjqLboIM6in4"
      },
      "execution_count": 18,
      "outputs": []
    },
    {
      "cell_type": "markdown",
      "source": [
        "# Bước 2 - Đọc dữ liệu và chuẩn hóa dữ liệu"
      ],
      "metadata": {
        "id": "zSsyd5Cmy2M6"
      }
    },
    {
      "cell_type": "code",
      "source": [
        "#df = pd.read_csv(\"/content/drive/MyDrive/BT3/CIC_UNSW-LABEL_Attack_cat.csv\")\n",
        "df = pd.read_csv('/content/drive/MyDrive/AnToanHeThongThongTin-CH2024/CIC_UNSW-LABEL_Attack_cat.csv')\n",
        "df = df.drop(['attack_cat'], axis=1)"
      ],
      "metadata": {
        "id": "eAx7cq2x8eLV"
      },
      "execution_count": 19,
      "outputs": []
    },
    {
      "cell_type": "code",
      "source": [
        "scaler = StandardScaler()\n",
        "scaler.fit(df[CSV_HEADER_WITHOUT_LABEL])\n",
        "df[CSV_HEADER_WITHOUT_LABEL] = scaler.transform(df[CSV_HEADER_WITHOUT_LABEL])"
      ],
      "metadata": {
        "id": "4ZoFmSir8hMU"
      },
      "execution_count": 20,
      "outputs": []
    },
    {
      "cell_type": "markdown",
      "source": [
        "# Bước 3 - Chia dữ liệu - Chọn một trong 2 bước sau tương ứng"
      ],
      "metadata": {
        "id": "j-cb820zy64j"
      }
    },
    {
      "cell_type": "markdown",
      "source": [
        "Chia dữ liệu và tách dữ liệu có nhãn là 4 ra để add vào tập train riêng.\n",
        "\n"
      ],
      "metadata": {
        "id": "VkQ8XTTavuPW"
      }
    },
    {
      "cell_type": "markdown",
      "source": [
        "## Bước 3.1 - Chi dữ liệu khi không train Label 4 - Exploits"
      ],
      "metadata": {
        "id": "NUzb3tiNzGdL"
      }
    },
    {
      "cell_type": "code",
      "source": [
        "import pandas as pd\n",
        "from sklearn.model_selection import train_test_split\n",
        "from sklearn.preprocessing import StandardScaler\n",
        "from sklearn.linear_model import LogisticRegression\n",
        "from sklearn.metrics import accuracy_score, precision_score, recall_score, f1_score, confusion_matrix, classification_report\n",
        "\n",
        "# Chia dữ liệu thành train/test\n",
        "train_data, test_data = train_test_split(df, test_size=0.2)\n",
        "train_data_1, train_data_2 = train_test_split(train_data, test_size=0.5)\n",
        "\n",
        "# Chia dữ liệu thành train/test\n",
        "train_data, test_data = train_test_split(df, test_size=0.2)\n",
        "# Lấy dữ liệu dựa trên giá trị cột Label\n",
        "train_data_Label_4 = train_data[train_data['Label'] == 4]\n",
        "train = train_data[train_data[\"Label\"] != 4 ]\n",
        "\n",
        "train_data_1, train_data_2 = train_test_split(train, test_size=0.5)\n",
        "#train_data_2 = pd.concat([train_data_2, train_data_Label_4]) #add nhãn 4 vào train_data-2 tương ứng với model số 2\n",
        "test_data.to_csv(\"test_data.csv\", index=False, header=True)\n",
        "\n",
        "# Xác định đặc trưng (X) và nhãn (y)\n",
        "X_train_1 = train_data_1[CSV_HEADER_WITHOUT_LABEL]\n",
        "y_train_1 = train_data_1['Label']\n",
        "\n",
        "X_train_2 = train_data_2[CSV_HEADER_WITHOUT_LABEL]\n",
        "y_train_2 = train_data_2['Label']\n",
        "\n",
        "X_test = test_data[CSV_HEADER_WITHOUT_LABEL]\n",
        "y_test = test_data['Label']"
      ],
      "metadata": {
        "id": "NWdRqTXqzNXr"
      },
      "execution_count": null,
      "outputs": []
    },
    {
      "cell_type": "markdown",
      "source": [
        "##Bước 3.2: Dành cho Train với Label 4 - Exploits"
      ],
      "metadata": {
        "id": "Zg2Btm6Ryq1C"
      }
    },
    {
      "cell_type": "code",
      "source": [
        "import pandas as pd\n",
        "from sklearn.model_selection import train_test_split\n",
        "from sklearn.preprocessing import StandardScaler\n",
        "from sklearn.linear_model import LogisticRegression\n",
        "from sklearn.metrics import accuracy_score, precision_score, recall_score, f1_score, confusion_matrix, classification_report\n",
        "\n",
        "# Chia dữ liệu thành train/test\n",
        "train_data, test_data = train_test_split(df, test_size=0.2)\n",
        "train_data_1, train_data_2 = train_test_split(train_data, test_size=0.5)\n",
        "\n",
        "# Chia dữ liệu thành train/test\n",
        "train_data, test_data = train_test_split(df, test_size=0.2)\n",
        "# Lấy dữ liệu dựa trên giá trị cột Label\n",
        "train_data_Label_4 = train_data[train_data['Label'] == 4]\n",
        "train = train_data[train_data[\"Label\"] != 4 ]\n",
        "\n",
        "train_data_1, train_data_2 = train_test_split(train, test_size=0.5)\n",
        "train_data_2 = pd.concat([train_data_2, train_data_Label_4]) #add nhãn 4 vào train_data-2 tương ứng với model số 2\n",
        "\n",
        "# Lưu dữ liệu vào các tệp\n",
        "# train_data_1.to_csv(\"train_data_1.csv\", index=False, header=True)\n",
        "# train_data_2.to_csv(\"train_data_2.csv\", index=False, header=True)\n",
        "# train_data.to_csv(\"train_data.csv\", index=False, header=True)\n",
        "test_data.to_csv(\"test_data.csv\", index=False, header=True)\n",
        "\n",
        "# Xác định đặc trưng (X) và nhãn (y)\n",
        "X_train_1 = train_data_1[CSV_HEADER_WITHOUT_LABEL]\n",
        "y_train_1 = train_data_1['Label']\n",
        "\n",
        "X_train_2 = train_data_2[CSV_HEADER_WITHOUT_LABEL]\n",
        "y_train_2 = train_data_2['Label']\n",
        "\n",
        "X_test = test_data[CSV_HEADER_WITHOUT_LABEL]\n",
        "y_test = test_data['Label']\n",
        "\n",
        "# # Lưu dữ liệu vào các tệp\n",
        "# train_data_1.to_csv(\"train_data_1.csv\", index=False, header=True)\n",
        "# train_data_2.to_csv(\"train_data_2.csv\", index=False, header=True)\n",
        "# #train_data.to_csv(\"train_data.csv\", index=False, header=True)\n",
        "# test_data.to_csv(\"test_data.csv\", index=False, header=True)\n"
      ],
      "metadata": {
        "id": "EqaMDxDo8k8C"
      },
      "execution_count": 21,
      "outputs": []
    },
    {
      "cell_type": "markdown",
      "source": [
        "## Bước 4 - Gán tập dữ liệu train và test cho X_train_1, X_train_2, X_test"
      ],
      "metadata": {
        "id": "XRA7wG-RzUP5"
      }
    },
    {
      "cell_type": "markdown",
      "source": [
        "Gán X_train cho train_data_1 và 2"
      ],
      "metadata": {
        "id": "tJC_7rXgv1Ry"
      }
    },
    {
      "cell_type": "code",
      "source": [
        "# Xác định đặc trưng (X) và nhãn (y)\n",
        "X_train_1 = train_data_1[CSV_HEADER_WITHOUT_LABEL]\n",
        "y_train_1 = train_data_1['Label']\n",
        "\n",
        "X_train_2 = train_data_2[CSV_HEADER_WITHOUT_LABEL]\n",
        "y_train_2 = train_data_2['Label']\n",
        "\n",
        "X_test = test_data[CSV_HEADER_WITHOUT_LABEL]\n",
        "y_test = test_data['Label']\n"
      ],
      "metadata": {
        "id": "XxqrUvbb8tjg"
      },
      "execution_count": 22,
      "outputs": []
    },
    {
      "cell_type": "markdown",
      "source": [
        "# Train model"
      ],
      "metadata": {
        "id": "rxpkM1qCzeo6"
      }
    },
    {
      "cell_type": "markdown",
      "source": [
        "##Bước 5 - Thực hiện train dữ liệu với 2 mô hình."
      ],
      "metadata": {
        "id": "4JuhRGknv7L0"
      }
    },
    {
      "cell_type": "code",
      "source": [
        "del model_1\n",
        "del model_2\n",
        "del model_avg"
      ],
      "metadata": {
        "id": "JW1RlwwzxTXr"
      },
      "execution_count": 23,
      "outputs": []
    },
    {
      "cell_type": "code",
      "source": [
        "# Huấn luyện mô hình Logistic Regression cho client 1 và client 2\n",
        "model_1 = LogisticRegression(max_iter=1000)\n",
        "model_1.fit(X_train_1, y_train_1)\n",
        "\n",
        "model_2 = LogisticRegression(max_iter=1000)\n",
        "model_2.fit(X_train_2, y_train_2)\n"
      ],
      "metadata": {
        "colab": {
          "base_uri": "https://localhost:8080/",
          "height": 80
        },
        "id": "96SJtm7I8x-9",
        "outputId": "2e8230fe-4242-4f33-9361-0ad9fcd7c181"
      },
      "execution_count": 24,
      "outputs": [
        {
          "output_type": "execute_result",
          "data": {
            "text/plain": [
              "LogisticRegression(max_iter=1000)"
            ],
            "text/html": [
              "<style>#sk-container-id-2 {\n",
              "  /* Definition of color scheme common for light and dark mode */\n",
              "  --sklearn-color-text: #000;\n",
              "  --sklearn-color-text-muted: #666;\n",
              "  --sklearn-color-line: gray;\n",
              "  /* Definition of color scheme for unfitted estimators */\n",
              "  --sklearn-color-unfitted-level-0: #fff5e6;\n",
              "  --sklearn-color-unfitted-level-1: #f6e4d2;\n",
              "  --sklearn-color-unfitted-level-2: #ffe0b3;\n",
              "  --sklearn-color-unfitted-level-3: chocolate;\n",
              "  /* Definition of color scheme for fitted estimators */\n",
              "  --sklearn-color-fitted-level-0: #f0f8ff;\n",
              "  --sklearn-color-fitted-level-1: #d4ebff;\n",
              "  --sklearn-color-fitted-level-2: #b3dbfd;\n",
              "  --sklearn-color-fitted-level-3: cornflowerblue;\n",
              "\n",
              "  /* Specific color for light theme */\n",
              "  --sklearn-color-text-on-default-background: var(--sg-text-color, var(--theme-code-foreground, var(--jp-content-font-color1, black)));\n",
              "  --sklearn-color-background: var(--sg-background-color, var(--theme-background, var(--jp-layout-color0, white)));\n",
              "  --sklearn-color-border-box: var(--sg-text-color, var(--theme-code-foreground, var(--jp-content-font-color1, black)));\n",
              "  --sklearn-color-icon: #696969;\n",
              "\n",
              "  @media (prefers-color-scheme: dark) {\n",
              "    /* Redefinition of color scheme for dark theme */\n",
              "    --sklearn-color-text-on-default-background: var(--sg-text-color, var(--theme-code-foreground, var(--jp-content-font-color1, white)));\n",
              "    --sklearn-color-background: var(--sg-background-color, var(--theme-background, var(--jp-layout-color0, #111)));\n",
              "    --sklearn-color-border-box: var(--sg-text-color, var(--theme-code-foreground, var(--jp-content-font-color1, white)));\n",
              "    --sklearn-color-icon: #878787;\n",
              "  }\n",
              "}\n",
              "\n",
              "#sk-container-id-2 {\n",
              "  color: var(--sklearn-color-text);\n",
              "}\n",
              "\n",
              "#sk-container-id-2 pre {\n",
              "  padding: 0;\n",
              "}\n",
              "\n",
              "#sk-container-id-2 input.sk-hidden--visually {\n",
              "  border: 0;\n",
              "  clip: rect(1px 1px 1px 1px);\n",
              "  clip: rect(1px, 1px, 1px, 1px);\n",
              "  height: 1px;\n",
              "  margin: -1px;\n",
              "  overflow: hidden;\n",
              "  padding: 0;\n",
              "  position: absolute;\n",
              "  width: 1px;\n",
              "}\n",
              "\n",
              "#sk-container-id-2 div.sk-dashed-wrapped {\n",
              "  border: 1px dashed var(--sklearn-color-line);\n",
              "  margin: 0 0.4em 0.5em 0.4em;\n",
              "  box-sizing: border-box;\n",
              "  padding-bottom: 0.4em;\n",
              "  background-color: var(--sklearn-color-background);\n",
              "}\n",
              "\n",
              "#sk-container-id-2 div.sk-container {\n",
              "  /* jupyter's `normalize.less` sets `[hidden] { display: none; }`\n",
              "     but bootstrap.min.css set `[hidden] { display: none !important; }`\n",
              "     so we also need the `!important` here to be able to override the\n",
              "     default hidden behavior on the sphinx rendered scikit-learn.org.\n",
              "     See: https://github.com/scikit-learn/scikit-learn/issues/21755 */\n",
              "  display: inline-block !important;\n",
              "  position: relative;\n",
              "}\n",
              "\n",
              "#sk-container-id-2 div.sk-text-repr-fallback {\n",
              "  display: none;\n",
              "}\n",
              "\n",
              "div.sk-parallel-item,\n",
              "div.sk-serial,\n",
              "div.sk-item {\n",
              "  /* draw centered vertical line to link estimators */\n",
              "  background-image: linear-gradient(var(--sklearn-color-text-on-default-background), var(--sklearn-color-text-on-default-background));\n",
              "  background-size: 2px 100%;\n",
              "  background-repeat: no-repeat;\n",
              "  background-position: center center;\n",
              "}\n",
              "\n",
              "/* Parallel-specific style estimator block */\n",
              "\n",
              "#sk-container-id-2 div.sk-parallel-item::after {\n",
              "  content: \"\";\n",
              "  width: 100%;\n",
              "  border-bottom: 2px solid var(--sklearn-color-text-on-default-background);\n",
              "  flex-grow: 1;\n",
              "}\n",
              "\n",
              "#sk-container-id-2 div.sk-parallel {\n",
              "  display: flex;\n",
              "  align-items: stretch;\n",
              "  justify-content: center;\n",
              "  background-color: var(--sklearn-color-background);\n",
              "  position: relative;\n",
              "}\n",
              "\n",
              "#sk-container-id-2 div.sk-parallel-item {\n",
              "  display: flex;\n",
              "  flex-direction: column;\n",
              "}\n",
              "\n",
              "#sk-container-id-2 div.sk-parallel-item:first-child::after {\n",
              "  align-self: flex-end;\n",
              "  width: 50%;\n",
              "}\n",
              "\n",
              "#sk-container-id-2 div.sk-parallel-item:last-child::after {\n",
              "  align-self: flex-start;\n",
              "  width: 50%;\n",
              "}\n",
              "\n",
              "#sk-container-id-2 div.sk-parallel-item:only-child::after {\n",
              "  width: 0;\n",
              "}\n",
              "\n",
              "/* Serial-specific style estimator block */\n",
              "\n",
              "#sk-container-id-2 div.sk-serial {\n",
              "  display: flex;\n",
              "  flex-direction: column;\n",
              "  align-items: center;\n",
              "  background-color: var(--sklearn-color-background);\n",
              "  padding-right: 1em;\n",
              "  padding-left: 1em;\n",
              "}\n",
              "\n",
              "\n",
              "/* Toggleable style: style used for estimator/Pipeline/ColumnTransformer box that is\n",
              "clickable and can be expanded/collapsed.\n",
              "- Pipeline and ColumnTransformer use this feature and define the default style\n",
              "- Estimators will overwrite some part of the style using the `sk-estimator` class\n",
              "*/\n",
              "\n",
              "/* Pipeline and ColumnTransformer style (default) */\n",
              "\n",
              "#sk-container-id-2 div.sk-toggleable {\n",
              "  /* Default theme specific background. It is overwritten whether we have a\n",
              "  specific estimator or a Pipeline/ColumnTransformer */\n",
              "  background-color: var(--sklearn-color-background);\n",
              "}\n",
              "\n",
              "/* Toggleable label */\n",
              "#sk-container-id-2 label.sk-toggleable__label {\n",
              "  cursor: pointer;\n",
              "  display: flex;\n",
              "  width: 100%;\n",
              "  margin-bottom: 0;\n",
              "  padding: 0.5em;\n",
              "  box-sizing: border-box;\n",
              "  text-align: center;\n",
              "  align-items: start;\n",
              "  justify-content: space-between;\n",
              "  gap: 0.5em;\n",
              "}\n",
              "\n",
              "#sk-container-id-2 label.sk-toggleable__label .caption {\n",
              "  font-size: 0.6rem;\n",
              "  font-weight: lighter;\n",
              "  color: var(--sklearn-color-text-muted);\n",
              "}\n",
              "\n",
              "#sk-container-id-2 label.sk-toggleable__label-arrow:before {\n",
              "  /* Arrow on the left of the label */\n",
              "  content: \"▸\";\n",
              "  float: left;\n",
              "  margin-right: 0.25em;\n",
              "  color: var(--sklearn-color-icon);\n",
              "}\n",
              "\n",
              "#sk-container-id-2 label.sk-toggleable__label-arrow:hover:before {\n",
              "  color: var(--sklearn-color-text);\n",
              "}\n",
              "\n",
              "/* Toggleable content - dropdown */\n",
              "\n",
              "#sk-container-id-2 div.sk-toggleable__content {\n",
              "  max-height: 0;\n",
              "  max-width: 0;\n",
              "  overflow: hidden;\n",
              "  text-align: left;\n",
              "  /* unfitted */\n",
              "  background-color: var(--sklearn-color-unfitted-level-0);\n",
              "}\n",
              "\n",
              "#sk-container-id-2 div.sk-toggleable__content.fitted {\n",
              "  /* fitted */\n",
              "  background-color: var(--sklearn-color-fitted-level-0);\n",
              "}\n",
              "\n",
              "#sk-container-id-2 div.sk-toggleable__content pre {\n",
              "  margin: 0.2em;\n",
              "  border-radius: 0.25em;\n",
              "  color: var(--sklearn-color-text);\n",
              "  /* unfitted */\n",
              "  background-color: var(--sklearn-color-unfitted-level-0);\n",
              "}\n",
              "\n",
              "#sk-container-id-2 div.sk-toggleable__content.fitted pre {\n",
              "  /* unfitted */\n",
              "  background-color: var(--sklearn-color-fitted-level-0);\n",
              "}\n",
              "\n",
              "#sk-container-id-2 input.sk-toggleable__control:checked~div.sk-toggleable__content {\n",
              "  /* Expand drop-down */\n",
              "  max-height: 200px;\n",
              "  max-width: 100%;\n",
              "  overflow: auto;\n",
              "}\n",
              "\n",
              "#sk-container-id-2 input.sk-toggleable__control:checked~label.sk-toggleable__label-arrow:before {\n",
              "  content: \"▾\";\n",
              "}\n",
              "\n",
              "/* Pipeline/ColumnTransformer-specific style */\n",
              "\n",
              "#sk-container-id-2 div.sk-label input.sk-toggleable__control:checked~label.sk-toggleable__label {\n",
              "  color: var(--sklearn-color-text);\n",
              "  background-color: var(--sklearn-color-unfitted-level-2);\n",
              "}\n",
              "\n",
              "#sk-container-id-2 div.sk-label.fitted input.sk-toggleable__control:checked~label.sk-toggleable__label {\n",
              "  background-color: var(--sklearn-color-fitted-level-2);\n",
              "}\n",
              "\n",
              "/* Estimator-specific style */\n",
              "\n",
              "/* Colorize estimator box */\n",
              "#sk-container-id-2 div.sk-estimator input.sk-toggleable__control:checked~label.sk-toggleable__label {\n",
              "  /* unfitted */\n",
              "  background-color: var(--sklearn-color-unfitted-level-2);\n",
              "}\n",
              "\n",
              "#sk-container-id-2 div.sk-estimator.fitted input.sk-toggleable__control:checked~label.sk-toggleable__label {\n",
              "  /* fitted */\n",
              "  background-color: var(--sklearn-color-fitted-level-2);\n",
              "}\n",
              "\n",
              "#sk-container-id-2 div.sk-label label.sk-toggleable__label,\n",
              "#sk-container-id-2 div.sk-label label {\n",
              "  /* The background is the default theme color */\n",
              "  color: var(--sklearn-color-text-on-default-background);\n",
              "}\n",
              "\n",
              "/* On hover, darken the color of the background */\n",
              "#sk-container-id-2 div.sk-label:hover label.sk-toggleable__label {\n",
              "  color: var(--sklearn-color-text);\n",
              "  background-color: var(--sklearn-color-unfitted-level-2);\n",
              "}\n",
              "\n",
              "/* Label box, darken color on hover, fitted */\n",
              "#sk-container-id-2 div.sk-label.fitted:hover label.sk-toggleable__label.fitted {\n",
              "  color: var(--sklearn-color-text);\n",
              "  background-color: var(--sklearn-color-fitted-level-2);\n",
              "}\n",
              "\n",
              "/* Estimator label */\n",
              "\n",
              "#sk-container-id-2 div.sk-label label {\n",
              "  font-family: monospace;\n",
              "  font-weight: bold;\n",
              "  display: inline-block;\n",
              "  line-height: 1.2em;\n",
              "}\n",
              "\n",
              "#sk-container-id-2 div.sk-label-container {\n",
              "  text-align: center;\n",
              "}\n",
              "\n",
              "/* Estimator-specific */\n",
              "#sk-container-id-2 div.sk-estimator {\n",
              "  font-family: monospace;\n",
              "  border: 1px dotted var(--sklearn-color-border-box);\n",
              "  border-radius: 0.25em;\n",
              "  box-sizing: border-box;\n",
              "  margin-bottom: 0.5em;\n",
              "  /* unfitted */\n",
              "  background-color: var(--sklearn-color-unfitted-level-0);\n",
              "}\n",
              "\n",
              "#sk-container-id-2 div.sk-estimator.fitted {\n",
              "  /* fitted */\n",
              "  background-color: var(--sklearn-color-fitted-level-0);\n",
              "}\n",
              "\n",
              "/* on hover */\n",
              "#sk-container-id-2 div.sk-estimator:hover {\n",
              "  /* unfitted */\n",
              "  background-color: var(--sklearn-color-unfitted-level-2);\n",
              "}\n",
              "\n",
              "#sk-container-id-2 div.sk-estimator.fitted:hover {\n",
              "  /* fitted */\n",
              "  background-color: var(--sklearn-color-fitted-level-2);\n",
              "}\n",
              "\n",
              "/* Specification for estimator info (e.g. \"i\" and \"?\") */\n",
              "\n",
              "/* Common style for \"i\" and \"?\" */\n",
              "\n",
              ".sk-estimator-doc-link,\n",
              "a:link.sk-estimator-doc-link,\n",
              "a:visited.sk-estimator-doc-link {\n",
              "  float: right;\n",
              "  font-size: smaller;\n",
              "  line-height: 1em;\n",
              "  font-family: monospace;\n",
              "  background-color: var(--sklearn-color-background);\n",
              "  border-radius: 1em;\n",
              "  height: 1em;\n",
              "  width: 1em;\n",
              "  text-decoration: none !important;\n",
              "  margin-left: 0.5em;\n",
              "  text-align: center;\n",
              "  /* unfitted */\n",
              "  border: var(--sklearn-color-unfitted-level-1) 1pt solid;\n",
              "  color: var(--sklearn-color-unfitted-level-1);\n",
              "}\n",
              "\n",
              ".sk-estimator-doc-link.fitted,\n",
              "a:link.sk-estimator-doc-link.fitted,\n",
              "a:visited.sk-estimator-doc-link.fitted {\n",
              "  /* fitted */\n",
              "  border: var(--sklearn-color-fitted-level-1) 1pt solid;\n",
              "  color: var(--sklearn-color-fitted-level-1);\n",
              "}\n",
              "\n",
              "/* On hover */\n",
              "div.sk-estimator:hover .sk-estimator-doc-link:hover,\n",
              ".sk-estimator-doc-link:hover,\n",
              "div.sk-label-container:hover .sk-estimator-doc-link:hover,\n",
              ".sk-estimator-doc-link:hover {\n",
              "  /* unfitted */\n",
              "  background-color: var(--sklearn-color-unfitted-level-3);\n",
              "  color: var(--sklearn-color-background);\n",
              "  text-decoration: none;\n",
              "}\n",
              "\n",
              "div.sk-estimator.fitted:hover .sk-estimator-doc-link.fitted:hover,\n",
              ".sk-estimator-doc-link.fitted:hover,\n",
              "div.sk-label-container:hover .sk-estimator-doc-link.fitted:hover,\n",
              ".sk-estimator-doc-link.fitted:hover {\n",
              "  /* fitted */\n",
              "  background-color: var(--sklearn-color-fitted-level-3);\n",
              "  color: var(--sklearn-color-background);\n",
              "  text-decoration: none;\n",
              "}\n",
              "\n",
              "/* Span, style for the box shown on hovering the info icon */\n",
              ".sk-estimator-doc-link span {\n",
              "  display: none;\n",
              "  z-index: 9999;\n",
              "  position: relative;\n",
              "  font-weight: normal;\n",
              "  right: .2ex;\n",
              "  padding: .5ex;\n",
              "  margin: .5ex;\n",
              "  width: min-content;\n",
              "  min-width: 20ex;\n",
              "  max-width: 50ex;\n",
              "  color: var(--sklearn-color-text);\n",
              "  box-shadow: 2pt 2pt 4pt #999;\n",
              "  /* unfitted */\n",
              "  background: var(--sklearn-color-unfitted-level-0);\n",
              "  border: .5pt solid var(--sklearn-color-unfitted-level-3);\n",
              "}\n",
              "\n",
              ".sk-estimator-doc-link.fitted span {\n",
              "  /* fitted */\n",
              "  background: var(--sklearn-color-fitted-level-0);\n",
              "  border: var(--sklearn-color-fitted-level-3);\n",
              "}\n",
              "\n",
              ".sk-estimator-doc-link:hover span {\n",
              "  display: block;\n",
              "}\n",
              "\n",
              "/* \"?\"-specific style due to the `<a>` HTML tag */\n",
              "\n",
              "#sk-container-id-2 a.estimator_doc_link {\n",
              "  float: right;\n",
              "  font-size: 1rem;\n",
              "  line-height: 1em;\n",
              "  font-family: monospace;\n",
              "  background-color: var(--sklearn-color-background);\n",
              "  border-radius: 1rem;\n",
              "  height: 1rem;\n",
              "  width: 1rem;\n",
              "  text-decoration: none;\n",
              "  /* unfitted */\n",
              "  color: var(--sklearn-color-unfitted-level-1);\n",
              "  border: var(--sklearn-color-unfitted-level-1) 1pt solid;\n",
              "}\n",
              "\n",
              "#sk-container-id-2 a.estimator_doc_link.fitted {\n",
              "  /* fitted */\n",
              "  border: var(--sklearn-color-fitted-level-1) 1pt solid;\n",
              "  color: var(--sklearn-color-fitted-level-1);\n",
              "}\n",
              "\n",
              "/* On hover */\n",
              "#sk-container-id-2 a.estimator_doc_link:hover {\n",
              "  /* unfitted */\n",
              "  background-color: var(--sklearn-color-unfitted-level-3);\n",
              "  color: var(--sklearn-color-background);\n",
              "  text-decoration: none;\n",
              "}\n",
              "\n",
              "#sk-container-id-2 a.estimator_doc_link.fitted:hover {\n",
              "  /* fitted */\n",
              "  background-color: var(--sklearn-color-fitted-level-3);\n",
              "}\n",
              "</style><div id=\"sk-container-id-2\" class=\"sk-top-container\"><div class=\"sk-text-repr-fallback\"><pre>LogisticRegression(max_iter=1000)</pre><b>In a Jupyter environment, please rerun this cell to show the HTML representation or trust the notebook. <br />On GitHub, the HTML representation is unable to render, please try loading this page with nbviewer.org.</b></div><div class=\"sk-container\" hidden><div class=\"sk-item\"><div class=\"sk-estimator fitted sk-toggleable\"><input class=\"sk-toggleable__control sk-hidden--visually\" id=\"sk-estimator-id-2\" type=\"checkbox\" checked><label for=\"sk-estimator-id-2\" class=\"sk-toggleable__label fitted sk-toggleable__label-arrow\"><div><div>LogisticRegression</div></div><div><a class=\"sk-estimator-doc-link fitted\" rel=\"noreferrer\" target=\"_blank\" href=\"https://scikit-learn.org/1.6/modules/generated/sklearn.linear_model.LogisticRegression.html\">?<span>Documentation for LogisticRegression</span></a><span class=\"sk-estimator-doc-link fitted\">i<span>Fitted</span></span></div></label><div class=\"sk-toggleable__content fitted\"><pre>LogisticRegression(max_iter=1000)</pre></div> </div></div></div></div>"
            ]
          },
          "metadata": {},
          "execution_count": 24
        }
      ]
    },
    {
      "cell_type": "markdown",
      "source": [
        "## Bước 6 - Khởi tạo một mô hình Model_avg - để tính trọng số được train từ Model_1 và Model_2 theo cơ chế mean-based"
      ],
      "metadata": {
        "id": "llAsxTCU5Vwy"
      }
    },
    {
      "cell_type": "code",
      "source": [
        "# Lấy các trọng số từ mô hình của mỗi client\n",
        "coef_1 = model_1.coef_\n",
        "intercept_1 = model_1.intercept_\n",
        "\n",
        "coef_2 = model_2.coef_\n",
        "intercept_2 = model_2.intercept_\n",
        "# Find the missing class\n",
        "missing_class = set(model_2.classes_) - set(model_1.classes_)\n",
        "\n",
        "# Add missing class to model_1 coef_ with 0 weights\n",
        "for c in missing_class:\n",
        "    coef_1 = np.vstack([coef_1, np.zeros((1, coef_1.shape[1]))])\n",
        "    intercept_1 = np.append(intercept_1, 0)\n",
        "\n",
        "# Now you should be able to average the coefficients\n",
        "# avg_coef = (coef_1 + coef_2) / 2\n",
        "# avg_intercept = (intercept_1 + intercept_2) / 2"
      ],
      "metadata": {
        "id": "Njw_FpUAf0dm"
      },
      "execution_count": 25,
      "outputs": []
    },
    {
      "cell_type": "code",
      "source": [
        "# Tính kích thước của dữ liệu mỗi client\n",
        "size_train_1 = len(X_train_1)\n",
        "size_train_2 = len(X_train_2)\n",
        "\n",
        "# Tính trọng số của mỗi client dựa trên kích thước dữ liệu\n",
        "total_size = size_train_1 + size_train_2\n",
        "weight_1 = size_train_1 / total_size\n",
        "weight_2 = size_train_2 / total_size\n",
        "\n",
        "# # Lấy các trọng số từ mô hình của mỗi client\n",
        "# coef_1 = model_1.coef_\n",
        "# intercept_1 = model_1.intercept_\n",
        "\n",
        "# coef_2 = model_2.coef_\n",
        "# intercept_2 = model_2.intercept_\n",
        "\n",
        "# Tổng hợp trọng số theo công thức Weighted Federated Averaging\n",
        "avg_coef = weight_1 * coef_1 + weight_2 * coef_2\n",
        "avg_intercept = weight_1 * intercept_1 + weight_2 * intercept_2\n",
        "\n",
        "# Tạo mô hình mới với trọng số tổng hợp\n",
        "model_avg = LogisticRegression()\n",
        "model_avg.coef_ = avg_coef\n",
        "model_avg.intercept_ = avg_intercept\n",
        "# Added line below to fix the error\n",
        "model_avg.classes_ = model_1.classes_ # or model_2.classes_, they should be the same\n"
      ],
      "metadata": {
        "id": "T7sc4EnH83HQ"
      },
      "execution_count": 26,
      "outputs": []
    },
    {
      "cell_type": "code",
      "source": [
        "import numpy as np\n",
        "from sklearn.linear_model import LogisticRegression\n",
        "\n",
        "# Lấy danh sách trọng số từ các client\n",
        "coefs = [model_1.coef_, model_2.coef_]  # Thay đổi theo số lượng client\n",
        "intercepts = [model_1.intercept_, model_2.intercept_]\n",
        "\n",
        "# Ensure coefs have the same shape before calculating median\n",
        "# Find the union of classes from both models\n",
        "all_classes = sorted(list(set(model_1.classes_) | set(model_2.classes_)))\n",
        "\n",
        "# Reshape coefs to include all classes, filling missing ones with 0\n",
        "coefs_reshaped = []\n",
        "for model_coef, model_classes in zip(coefs, [model_1.classes_, model_2.classes_]):\n",
        "    coef_reshaped = np.zeros((len(all_classes), model_coef.shape[1]))\n",
        "    for i, cls in enumerate(model_classes):\n",
        "        coef_reshaped[all_classes.index(cls)] = model_coef[i]\n",
        "    coefs_reshaped.append(coef_reshaped)\n",
        "\n",
        "# Reshape intercepts to include all classes, filling missing ones with 0\n",
        "intercepts_reshaped = []\n",
        "for model_intercept, model_classes in zip(intercepts, [model_1.classes_, model_2.classes_]):\n",
        "    intercept_reshaped = np.zeros(len(all_classes))\n",
        "    for i, cls in enumerate(model_classes):\n",
        "        intercept_reshaped[all_classes.index(cls)] = model_intercept[i]\n",
        "    intercepts_reshaped.append(intercept_reshaped)\n",
        "\n",
        "# Now calculate the median with reshaped coefficients\n",
        "median_coef = np.median(coefs_reshaped, axis=0)\n",
        "median_intercept = np.median(intercepts_reshaped, axis=0)\n",
        "\n",
        "# Tạo mô hình mới với trọng số tổng hợp\n",
        "model_avg = LogisticRegression()\n",
        "model_avg.coef_ = median_coef\n",
        "model_avg.intercept_ = median_intercept\n",
        "model_avg.classes_ = np.array(all_classes)  # Set classes to the union of classes"
      ],
      "metadata": {
        "id": "L0-zdUfbm1Se"
      },
      "execution_count": 27,
      "outputs": []
    },
    {
      "cell_type": "markdown",
      "source": [
        "# Bước 7 - Test model - Chọn một trong 2 test model tương ứng với train nhãn 4 và model không train nhãn 4"
      ],
      "metadata": {
        "id": "sF10_mKJzl5K"
      }
    },
    {
      "cell_type": "markdown",
      "source": [
        "## Bước 7.1 - Thực hiện test Mô hình với nhãn số 4 đã được train"
      ],
      "metadata": {
        "id": "Tiwhae2El6bO"
      }
    },
    {
      "cell_type": "code",
      "source": [
        "from sklearn.metrics import accuracy_score, precision_score, recall_score, f1_score, confusion_matrix, classification_report\n",
        "\n",
        "# Dự đoán với mô hình tổng hợp\n",
        "y_pred = model_avg.predict(X_test)\n",
        "\n",
        "# Đánh giá hiệu suất mô hình\n",
        "accuracy = accuracy_score(y_test, y_pred)\n",
        "precision = precision_score(y_test, y_pred, average='weighted', labels=np.unique(y_pred))\n",
        "recall = recall_score(y_test, y_pred, average='weighted', labels=np.unique(y_pred))\n",
        "f1 = f1_score(y_test, y_pred, average='weighted', labels=np.unique(y_pred))\n",
        "\n",
        "# In ra các chỉ số đánh giá\n",
        "print(f\"Accuracy: {accuracy * 100:.2f}%\")\n",
        "print(f\"Precision: {precision:.2f}\")\n",
        "print(f\"Recall: {recall:.2f}\")\n",
        "print(f\"F1-score: {f1:.2f}\")\n",
        "\n",
        "# Tính Confusion Matrix\n",
        "conf_matrix = confusion_matrix(y_test, y_pred)\n",
        "print(\"\\nConfusion Matrix:\")\n",
        "print(conf_matrix)\n",
        "\n",
        "# In báo cáo phân loại (classification report)\n",
        "report = classification_report(y_test, y_pred, target_names=encoded_to_original.values())\n",
        "print(\"\\nClassification Report:\\n\", report)"
      ],
      "metadata": {
        "colab": {
          "base_uri": "https://localhost:8080/"
        },
        "id": "Xd5f5qB8lkbA",
        "outputId": "46513630-3650-4438-d60e-e5637a0aaed3"
      },
      "execution_count": 30,
      "outputs": [
        {
          "output_type": "stream",
          "name": "stderr",
          "text": [
            "/usr/local/lib/python3.10/dist-packages/sklearn/utils/validation.py:2732: UserWarning: X has feature names, but LogisticRegression was fitted without feature names\n",
            "  warnings.warn(\n"
          ]
        },
        {
          "output_type": "stream",
          "name": "stdout",
          "text": [
            "Accuracy: 86.83%\n",
            "Precision: 0.91\n",
            "Recall: 0.87\n",
            "F1-score: 0.86\n",
            "\n",
            "Confusion Matrix:\n",
            "[[69753     5     0    68    17  1643    15   147     0     0]\n",
            " [    3     8     0    82     0     6     0     0     0     0]\n",
            " [    4     0     6     2     8    66     2     4     0     0]\n",
            " [   25     7     1   252    14   430    62    60     0     0]\n",
            " [  221    11     0  2305   217  2704   540   155     0     0]\n",
            " [   20     2     0    12     9  5184    21   696     0     0]\n",
            " [   20     1     0    55     2   432   403    19     0     0]\n",
            " [   97     0     0     0     0  1314     0  1965     0     0]\n",
            " [    1     0     0     0     0   334     0   108     0     0]\n",
            " [    0     0     0     0     2    32     7     4     0     0]]\n",
            "\n",
            "Classification Report:\n",
            "                 precision    recall  f1-score   support\n",
            "\n",
            "        Benign       0.99      0.97      0.98     71648\n",
            "      Analysis       0.24      0.08      0.12        99\n",
            "      Backdoor       0.86      0.07      0.12        92\n",
            "           DoS       0.09      0.30      0.14       851\n",
            "      Exploits       0.81      0.04      0.07      6153\n",
            "       Fuzzers       0.43      0.87      0.57      5944\n",
            "       Generic       0.38      0.43      0.41       932\n",
            "Reconnaissance       0.62      0.58      0.60      3376\n",
            "     Shellcode       0.00      0.00      0.00       443\n",
            "         Worms       0.00      0.00      0.00        45\n",
            "\n",
            "      accuracy                           0.87     89583\n",
            "     macro avg       0.44      0.33      0.30     89583\n",
            "  weighted avg       0.91      0.87      0.86     89583\n",
            "\n"
          ]
        },
        {
          "output_type": "stream",
          "name": "stderr",
          "text": [
            "/usr/local/lib/python3.10/dist-packages/sklearn/metrics/_classification.py:1565: UndefinedMetricWarning: Precision is ill-defined and being set to 0.0 in labels with no predicted samples. Use `zero_division` parameter to control this behavior.\n",
            "  _warn_prf(average, modifier, f\"{metric.capitalize()} is\", len(result))\n",
            "/usr/local/lib/python3.10/dist-packages/sklearn/metrics/_classification.py:1565: UndefinedMetricWarning: Precision is ill-defined and being set to 0.0 in labels with no predicted samples. Use `zero_division` parameter to control this behavior.\n",
            "  _warn_prf(average, modifier, f\"{metric.capitalize()} is\", len(result))\n",
            "/usr/local/lib/python3.10/dist-packages/sklearn/metrics/_classification.py:1565: UndefinedMetricWarning: Precision is ill-defined and being set to 0.0 in labels with no predicted samples. Use `zero_division` parameter to control this behavior.\n",
            "  _warn_prf(average, modifier, f\"{metric.capitalize()} is\", len(result))\n"
          ]
        }
      ]
    },
    {
      "cell_type": "markdown",
      "source": [
        "## Bước 7.2 - Thực hiện test mô hình khi dữ liệu nhãn số 4 chưa được train."
      ],
      "metadata": {
        "id": "fiuQ8QVknq_g"
      }
    },
    {
      "cell_type": "code",
      "source": [
        "from sklearn.metrics import accuracy_score, precision_score, recall_score, f1_score, confusion_matrix, classification_report\n",
        "\n",
        "# Dự đoán với mô hình tổng hợp\n",
        "y_pred = model_avg.predict(X_test)\n",
        "\n",
        "# Đánh giá hiệu suất mô hình\n",
        "accuracy = accuracy_score(y_test, y_pred)\n",
        "precision = precision_score(y_test, y_pred, average='weighted', labels=np.unique(y_pred))\n",
        "recall = recall_score(y_test, y_pred, average='weighted', labels=np.unique(y_pred))\n",
        "f1 = f1_score(y_test, y_pred, average='weighted', labels=np.unique(y_pred))\n",
        "\n",
        "# In ra các chỉ số đánh giá\n",
        "print(f\"Accuracy: {accuracy * 100:.2f}%\")\n",
        "print(f\"Precision: {precision:.2f}\")\n",
        "print(f\"Recall: {recall:.2f}\")\n",
        "print(f\"F1-score: {f1:.2f}\")\n",
        "\n",
        "# Tính Confusion Matrix\n",
        "conf_matrix = confusion_matrix(y_test, y_pred)\n",
        "print(\"\\nConfusion Matrix:\")\n",
        "print(conf_matrix)\n",
        "\n",
        "# In báo cáo phân loại (classification report)\n",
        "report = classification_report(y_test, y_pred, target_names=encoded_to_original.values())\n",
        "print(\"\\nClassification Report:\\n\", report)"
      ],
      "metadata": {
        "colab": {
          "base_uri": "https://localhost:8080/"
        },
        "id": "nNBhmZEanpN_",
        "outputId": "2b26486e-82c0-4016-8dd8-48b474221e88"
      },
      "execution_count": 16,
      "outputs": [
        {
          "output_type": "stream",
          "name": "stderr",
          "text": [
            "/usr/local/lib/python3.10/dist-packages/sklearn/utils/validation.py:2732: UserWarning: X has feature names, but LogisticRegression was fitted without feature names\n",
            "  warnings.warn(\n"
          ]
        },
        {
          "output_type": "stream",
          "name": "stdout",
          "text": [
            "Accuracy: 86.68%\n",
            "Precision: 0.92\n",
            "Recall: 0.94\n",
            "F1-score: 0.92\n",
            "\n",
            "Confusion Matrix:\n",
            "[[69707     0     0    70     0  1631    16   178     0     0]\n",
            " [   20     0     0    54     0     2     4     0     0     0]\n",
            " [    7     0     5     5     0    61     1     5     0     0]\n",
            " [   44     0     5   290     0   456    67    61     0     0]\n",
            " [  397     0     0  2420     0  2572   469   312     0     0]\n",
            " [   25     0     0     7     0  5160    20   729     0     0]\n",
            " [   14     0     0    58     0   453   375    30     0     0]\n",
            " [    4     0     0     3     0  1273     0  2117     0     0]\n",
            " [    0     0     0     0     0   295     0   107     0     0]\n",
            " [    1     0     0     0     0    43     6     4     0     0]]\n",
            "\n",
            "Classification Report:\n",
            "                 precision    recall  f1-score   support\n",
            "\n",
            "        Benign       0.99      0.97      0.98     71602\n",
            "      Analysis       0.00      0.00      0.00        80\n",
            "      Backdoor       0.50      0.06      0.11        84\n",
            "           DoS       0.10      0.31      0.15       923\n",
            "      Exploits       0.00      0.00      0.00      6170\n",
            "       Fuzzers       0.43      0.87      0.58      5941\n",
            "       Generic       0.39      0.40      0.40       930\n",
            "Reconnaissance       0.60      0.62      0.61      3397\n",
            "     Shellcode       0.00      0.00      0.00       402\n",
            "         Worms       0.00      0.00      0.00        54\n",
            "\n",
            "      accuracy                           0.87     89583\n",
            "     macro avg       0.30      0.32      0.28     89583\n",
            "  weighted avg       0.85      0.87      0.85     89583\n",
            "\n"
          ]
        },
        {
          "output_type": "stream",
          "name": "stderr",
          "text": [
            "/usr/local/lib/python3.10/dist-packages/sklearn/metrics/_classification.py:1565: UndefinedMetricWarning: Precision is ill-defined and being set to 0.0 in labels with no predicted samples. Use `zero_division` parameter to control this behavior.\n",
            "  _warn_prf(average, modifier, f\"{metric.capitalize()} is\", len(result))\n",
            "/usr/local/lib/python3.10/dist-packages/sklearn/metrics/_classification.py:1565: UndefinedMetricWarning: Precision is ill-defined and being set to 0.0 in labels with no predicted samples. Use `zero_division` parameter to control this behavior.\n",
            "  _warn_prf(average, modifier, f\"{metric.capitalize()} is\", len(result))\n",
            "/usr/local/lib/python3.10/dist-packages/sklearn/metrics/_classification.py:1565: UndefinedMetricWarning: Precision is ill-defined and being set to 0.0 in labels with no predicted samples. Use `zero_division` parameter to control this behavior.\n",
            "  _warn_prf(average, modifier, f\"{metric.capitalize()} is\", len(result))\n"
          ]
        }
      ]
    }
  ]
}