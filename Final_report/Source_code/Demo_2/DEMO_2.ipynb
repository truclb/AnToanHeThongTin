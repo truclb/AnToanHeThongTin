{
  "nbformat": 4,
  "nbformat_minor": 0,
  "metadata": {
    "colab": {
      "provenance": []
    },
    "kernelspec": {
      "name": "python3",
      "display_name": "Python 3"
    },
    "language_info": {
      "name": "python"
    }
  },
  "cells": [
    {
      "cell_type": "markdown",
      "source": [
        "Bước 1: Thực hiện cài đặt các thư viện cần thiết"
      ],
      "metadata": {
        "id": "6PpH4VYEhdSv"
      }
    },
    {
      "cell_type": "code",
      "source": [
        "!pip install flwr tensorflow numpy pandas scikit-learn\n",
        "!pip install -q flwr[simulation] tensorflow\n",
        "!pip install ray[rllib]  # also recommended: ray[debug]"
      ],
      "metadata": {
        "id": "iBQiODEiuHL3",
        "colab": {
          "base_uri": "https://localhost:8080/"
        },
        "outputId": "0f8ed3be-c239-4b2c-82c2-d3dc17f87581"
      },
      "execution_count": null,
      "outputs": [
        {
          "output_type": "stream",
          "name": "stdout",
          "text": [
            "Collecting flwr\n",
            "  Downloading flwr-1.13.1-py3-none-any.whl.metadata (15 kB)\n",
            "Requirement already satisfied: tensorflow in /usr/local/lib/python3.10/dist-packages (2.17.1)\n",
            "Requirement already satisfied: numpy in /usr/local/lib/python3.10/dist-packages (1.26.4)\n",
            "Requirement already satisfied: pandas in /usr/local/lib/python3.10/dist-packages (2.2.2)\n",
            "Requirement already satisfied: scikit-learn in /usr/local/lib/python3.10/dist-packages (1.5.2)\n",
            "Collecting cryptography<43.0.0,>=42.0.4 (from flwr)\n",
            "  Downloading cryptography-42.0.8-cp39-abi3-manylinux_2_28_x86_64.whl.metadata (5.3 kB)\n",
            "Collecting grpcio!=1.64.2,<2.0.0,<=1.64.3,>=1.60.0 (from flwr)\n",
            "  Downloading grpcio-1.64.3-cp310-cp310-manylinux_2_17_x86_64.manylinux2014_x86_64.whl.metadata (3.3 kB)\n",
            "Collecting iterators<0.0.3,>=0.0.2 (from flwr)\n",
            "  Downloading iterators-0.0.2-py3-none-any.whl.metadata (2.5 kB)\n",
            "Collecting pathspec<0.13.0,>=0.12.1 (from flwr)\n",
            "  Downloading pathspec-0.12.1-py3-none-any.whl.metadata (21 kB)\n",
            "Requirement already satisfied: protobuf<5.0.0,>=4.25.2 in /usr/local/lib/python3.10/dist-packages (from flwr) (4.25.5)\n",
            "Collecting pycryptodome<4.0.0,>=3.18.0 (from flwr)\n",
            "  Downloading pycryptodome-3.21.0-cp36-abi3-manylinux_2_17_x86_64.manylinux2014_x86_64.whl.metadata (3.4 kB)\n",
            "Requirement already satisfied: rich<14.0.0,>=13.5.0 in /usr/local/lib/python3.10/dist-packages (from flwr) (13.9.4)\n",
            "Requirement already satisfied: tomli<3.0.0,>=2.0.1 in /usr/local/lib/python3.10/dist-packages (from flwr) (2.2.1)\n",
            "Collecting tomli-w<2.0.0,>=1.0.0 (from flwr)\n",
            "  Downloading tomli_w-1.1.0-py3-none-any.whl.metadata (5.7 kB)\n",
            "Collecting typer<0.13.0,>=0.12.5 (from flwr)\n",
            "  Downloading typer-0.12.5-py3-none-any.whl.metadata (15 kB)\n",
            "Requirement already satisfied: absl-py>=1.0.0 in /usr/local/lib/python3.10/dist-packages (from tensorflow) (1.4.0)\n",
            "Requirement already satisfied: astunparse>=1.6.0 in /usr/local/lib/python3.10/dist-packages (from tensorflow) (1.6.3)\n",
            "Requirement already satisfied: flatbuffers>=24.3.25 in /usr/local/lib/python3.10/dist-packages (from tensorflow) (24.3.25)\n",
            "Requirement already satisfied: gast!=0.5.0,!=0.5.1,!=0.5.2,>=0.2.1 in /usr/local/lib/python3.10/dist-packages (from tensorflow) (0.6.0)\n",
            "Requirement already satisfied: google-pasta>=0.1.1 in /usr/local/lib/python3.10/dist-packages (from tensorflow) (0.2.0)\n",
            "Requirement already satisfied: h5py>=3.10.0 in /usr/local/lib/python3.10/dist-packages (from tensorflow) (3.12.1)\n",
            "Requirement already satisfied: libclang>=13.0.0 in /usr/local/lib/python3.10/dist-packages (from tensorflow) (18.1.1)\n",
            "Requirement already satisfied: ml-dtypes<0.5.0,>=0.3.1 in /usr/local/lib/python3.10/dist-packages (from tensorflow) (0.4.1)\n",
            "Requirement already satisfied: opt-einsum>=2.3.2 in /usr/local/lib/python3.10/dist-packages (from tensorflow) (3.4.0)\n",
            "Requirement already satisfied: packaging in /usr/local/lib/python3.10/dist-packages (from tensorflow) (24.2)\n",
            "Requirement already satisfied: requests<3,>=2.21.0 in /usr/local/lib/python3.10/dist-packages (from tensorflow) (2.32.3)\n",
            "Requirement already satisfied: setuptools in /usr/local/lib/python3.10/dist-packages (from tensorflow) (75.1.0)\n",
            "Requirement already satisfied: six>=1.12.0 in /usr/local/lib/python3.10/dist-packages (from tensorflow) (1.16.0)\n",
            "Requirement already satisfied: termcolor>=1.1.0 in /usr/local/lib/python3.10/dist-packages (from tensorflow) (2.5.0)\n",
            "Requirement already satisfied: typing-extensions>=3.6.6 in /usr/local/lib/python3.10/dist-packages (from tensorflow) (4.12.2)\n",
            "Requirement already satisfied: wrapt>=1.11.0 in /usr/local/lib/python3.10/dist-packages (from tensorflow) (1.17.0)\n",
            "Requirement already satisfied: tensorboard<2.18,>=2.17 in /usr/local/lib/python3.10/dist-packages (from tensorflow) (2.17.1)\n",
            "Requirement already satisfied: keras>=3.2.0 in /usr/local/lib/python3.10/dist-packages (from tensorflow) (3.5.0)\n",
            "Requirement already satisfied: tensorflow-io-gcs-filesystem>=0.23.1 in /usr/local/lib/python3.10/dist-packages (from tensorflow) (0.37.1)\n",
            "Requirement already satisfied: python-dateutil>=2.8.2 in /usr/local/lib/python3.10/dist-packages (from pandas) (2.8.2)\n",
            "Requirement already satisfied: pytz>=2020.1 in /usr/local/lib/python3.10/dist-packages (from pandas) (2024.2)\n",
            "Requirement already satisfied: tzdata>=2022.7 in /usr/local/lib/python3.10/dist-packages (from pandas) (2024.2)\n",
            "Requirement already satisfied: scipy>=1.6.0 in /usr/local/lib/python3.10/dist-packages (from scikit-learn) (1.13.1)\n",
            "Requirement already satisfied: joblib>=1.2.0 in /usr/local/lib/python3.10/dist-packages (from scikit-learn) (1.4.2)\n",
            "Requirement already satisfied: threadpoolctl>=3.1.0 in /usr/local/lib/python3.10/dist-packages (from scikit-learn) (3.5.0)\n",
            "Requirement already satisfied: wheel<1.0,>=0.23.0 in /usr/local/lib/python3.10/dist-packages (from astunparse>=1.6.0->tensorflow) (0.45.1)\n",
            "Requirement already satisfied: cffi>=1.12 in /usr/local/lib/python3.10/dist-packages (from cryptography<43.0.0,>=42.0.4->flwr) (1.17.1)\n",
            "Requirement already satisfied: namex in /usr/local/lib/python3.10/dist-packages (from keras>=3.2.0->tensorflow) (0.0.8)\n",
            "Requirement already satisfied: optree in /usr/local/lib/python3.10/dist-packages (from keras>=3.2.0->tensorflow) (0.13.1)\n",
            "Requirement already satisfied: charset-normalizer<4,>=2 in /usr/local/lib/python3.10/dist-packages (from requests<3,>=2.21.0->tensorflow) (3.4.0)\n",
            "Requirement already satisfied: idna<4,>=2.5 in /usr/local/lib/python3.10/dist-packages (from requests<3,>=2.21.0->tensorflow) (3.10)\n",
            "Requirement already satisfied: urllib3<3,>=1.21.1 in /usr/local/lib/python3.10/dist-packages (from requests<3,>=2.21.0->tensorflow) (2.2.3)\n",
            "Requirement already satisfied: certifi>=2017.4.17 in /usr/local/lib/python3.10/dist-packages (from requests<3,>=2.21.0->tensorflow) (2024.8.30)\n",
            "Requirement already satisfied: markdown-it-py>=2.2.0 in /usr/local/lib/python3.10/dist-packages (from rich<14.0.0,>=13.5.0->flwr) (3.0.0)\n",
            "Requirement already satisfied: pygments<3.0.0,>=2.13.0 in /usr/local/lib/python3.10/dist-packages (from rich<14.0.0,>=13.5.0->flwr) (2.18.0)\n",
            "Requirement already satisfied: markdown>=2.6.8 in /usr/local/lib/python3.10/dist-packages (from tensorboard<2.18,>=2.17->tensorflow) (3.7)\n",
            "Requirement already satisfied: tensorboard-data-server<0.8.0,>=0.7.0 in /usr/local/lib/python3.10/dist-packages (from tensorboard<2.18,>=2.17->tensorflow) (0.7.2)\n",
            "Requirement already satisfied: werkzeug>=1.0.1 in /usr/local/lib/python3.10/dist-packages (from tensorboard<2.18,>=2.17->tensorflow) (3.1.3)\n",
            "Requirement already satisfied: click>=8.0.0 in /usr/local/lib/python3.10/dist-packages (from typer<0.13.0,>=0.12.5->flwr) (8.1.7)\n",
            "Requirement already satisfied: shellingham>=1.3.0 in /usr/local/lib/python3.10/dist-packages (from typer<0.13.0,>=0.12.5->flwr) (1.5.4)\n",
            "Requirement already satisfied: pycparser in /usr/local/lib/python3.10/dist-packages (from cffi>=1.12->cryptography<43.0.0,>=42.0.4->flwr) (2.22)\n",
            "Requirement already satisfied: mdurl~=0.1 in /usr/local/lib/python3.10/dist-packages (from markdown-it-py>=2.2.0->rich<14.0.0,>=13.5.0->flwr) (0.1.2)\n",
            "Requirement already satisfied: MarkupSafe>=2.1.1 in /usr/local/lib/python3.10/dist-packages (from werkzeug>=1.0.1->tensorboard<2.18,>=2.17->tensorflow) (3.0.2)\n",
            "Downloading flwr-1.13.1-py3-none-any.whl (512 kB)\n",
            "\u001b[2K   \u001b[90m━━━━━━━━━━━━━━━━━━━━━━━━━━━━━━━━━━━━━━━━\u001b[0m \u001b[32m512.2/512.2 kB\u001b[0m \u001b[31m9.8 MB/s\u001b[0m eta \u001b[36m0:00:00\u001b[0m\n",
            "\u001b[?25hDownloading cryptography-42.0.8-cp39-abi3-manylinux_2_28_x86_64.whl (3.9 MB)\n",
            "\u001b[2K   \u001b[90m━━━━━━━━━━━━━━━━━━━━━━━━━━━━━━━━━━━━━━━━\u001b[0m \u001b[32m3.9/3.9 MB\u001b[0m \u001b[31m54.5 MB/s\u001b[0m eta \u001b[36m0:00:00\u001b[0m\n",
            "\u001b[?25hDownloading grpcio-1.64.3-cp310-cp310-manylinux_2_17_x86_64.manylinux2014_x86_64.whl (5.6 MB)\n",
            "\u001b[2K   \u001b[90m━━━━━━━━━━━━━━━━━━━━━━━━━━━━━━━━━━━━━━━━\u001b[0m \u001b[32m5.6/5.6 MB\u001b[0m \u001b[31m56.8 MB/s\u001b[0m eta \u001b[36m0:00:00\u001b[0m\n",
            "\u001b[?25hDownloading iterators-0.0.2-py3-none-any.whl (3.9 kB)\n",
            "Downloading pathspec-0.12.1-py3-none-any.whl (31 kB)\n",
            "Downloading pycryptodome-3.21.0-cp36-abi3-manylinux_2_17_x86_64.manylinux2014_x86_64.whl (2.3 MB)\n",
            "\u001b[2K   \u001b[90m━━━━━━━━━━━━━━━━━━━━━━━━━━━━━━━━━━━━━━━━\u001b[0m \u001b[32m2.3/2.3 MB\u001b[0m \u001b[31m48.5 MB/s\u001b[0m eta \u001b[36m0:00:00\u001b[0m\n",
            "\u001b[?25hDownloading tomli_w-1.1.0-py3-none-any.whl (6.4 kB)\n",
            "Downloading typer-0.12.5-py3-none-any.whl (47 kB)\n",
            "\u001b[2K   \u001b[90m━━━━━━━━━━━━━━━━━━━━━━━━━━━━━━━━━━━━━━━━\u001b[0m \u001b[32m47.3/47.3 kB\u001b[0m \u001b[31m3.1 MB/s\u001b[0m eta \u001b[36m0:00:00\u001b[0m\n",
            "\u001b[?25hInstalling collected packages: tomli-w, pycryptodome, pathspec, iterators, grpcio, cryptography, typer, flwr\n",
            "  Attempting uninstall: grpcio\n",
            "    Found existing installation: grpcio 1.68.1\n",
            "    Uninstalling grpcio-1.68.1:\n",
            "      Successfully uninstalled grpcio-1.68.1\n",
            "  Attempting uninstall: cryptography\n",
            "    Found existing installation: cryptography 43.0.3\n",
            "    Uninstalling cryptography-43.0.3:\n",
            "      Successfully uninstalled cryptography-43.0.3\n",
            "  Attempting uninstall: typer\n",
            "    Found existing installation: typer 0.15.0\n",
            "    Uninstalling typer-0.15.0:\n",
            "      Successfully uninstalled typer-0.15.0\n",
            "Successfully installed cryptography-42.0.8 flwr-1.13.1 grpcio-1.64.3 iterators-0.0.2 pathspec-0.12.1 pycryptodome-3.21.0 tomli-w-1.1.0 typer-0.12.5\n",
            "\u001b[2K   \u001b[90m━━━━━━━━━━━━━━━━━━━━━━━━━━━━━━━━━━━━━━━━\u001b[0m \u001b[32m65.1/65.1 MB\u001b[0m \u001b[31m11.2 MB/s\u001b[0m eta \u001b[36m0:00:00\u001b[0m\n",
            "\u001b[?25hRequirement already satisfied: ray[rllib] in /usr/local/lib/python3.10/dist-packages (2.10.0)\n",
            "Requirement already satisfied: click>=7.0 in /usr/local/lib/python3.10/dist-packages (from ray[rllib]) (8.1.7)\n",
            "Requirement already satisfied: filelock in /usr/local/lib/python3.10/dist-packages (from ray[rllib]) (3.16.1)\n",
            "Requirement already satisfied: jsonschema in /usr/local/lib/python3.10/dist-packages (from ray[rllib]) (4.23.0)\n",
            "Requirement already satisfied: msgpack<2.0.0,>=1.0.0 in /usr/local/lib/python3.10/dist-packages (from ray[rllib]) (1.1.0)\n",
            "Requirement already satisfied: packaging in /usr/local/lib/python3.10/dist-packages (from ray[rllib]) (24.2)\n",
            "Requirement already satisfied: protobuf!=3.19.5,>=3.15.3 in /usr/local/lib/python3.10/dist-packages (from ray[rllib]) (4.25.5)\n",
            "Requirement already satisfied: pyyaml in /usr/local/lib/python3.10/dist-packages (from ray[rllib]) (6.0.2)\n",
            "Requirement already satisfied: aiosignal in /usr/local/lib/python3.10/dist-packages (from ray[rllib]) (1.3.1)\n",
            "Requirement already satisfied: frozenlist in /usr/local/lib/python3.10/dist-packages (from ray[rllib]) (1.5.0)\n",
            "Requirement already satisfied: requests in /usr/local/lib/python3.10/dist-packages (from ray[rllib]) (2.32.3)\n",
            "Requirement already satisfied: pandas in /usr/local/lib/python3.10/dist-packages (from ray[rllib]) (2.2.2)\n",
            "Collecting tensorboardX>=1.9 (from ray[rllib])\n",
            "  Downloading tensorboardX-2.6.2.2-py2.py3-none-any.whl.metadata (5.8 kB)\n",
            "Requirement already satisfied: pyarrow>=6.0.1 in /usr/local/lib/python3.10/dist-packages (from ray[rllib]) (17.0.0)\n",
            "Requirement already satisfied: fsspec in /usr/local/lib/python3.10/dist-packages (from ray[rllib]) (2024.10.0)\n",
            "Requirement already satisfied: dm-tree in /usr/local/lib/python3.10/dist-packages (from ray[rllib]) (0.1.8)\n",
            "Collecting gymnasium==0.28.1 (from ray[rllib])\n",
            "  Downloading gymnasium-0.28.1-py3-none-any.whl.metadata (9.2 kB)\n",
            "Collecting lz4 (from ray[rllib])\n",
            "  Downloading lz4-4.3.3-cp310-cp310-manylinux_2_17_x86_64.manylinux2014_x86_64.whl.metadata (3.7 kB)\n",
            "Requirement already satisfied: scikit-image in /usr/local/lib/python3.10/dist-packages (from ray[rllib]) (0.24.0)\n",
            "Requirement already satisfied: scipy in /usr/local/lib/python3.10/dist-packages (from ray[rllib]) (1.13.1)\n",
            "Requirement already satisfied: typer in /usr/local/lib/python3.10/dist-packages (from ray[rllib]) (0.12.5)\n",
            "Requirement already satisfied: rich in /usr/local/lib/python3.10/dist-packages (from ray[rllib]) (13.9.4)\n",
            "Requirement already satisfied: numpy>=1.21.0 in /usr/local/lib/python3.10/dist-packages (from gymnasium==0.28.1->ray[rllib]) (1.26.4)\n",
            "Collecting jax-jumpy>=1.0.0 (from gymnasium==0.28.1->ray[rllib])\n",
            "  Downloading jax_jumpy-1.0.0-py3-none-any.whl.metadata (15 kB)\n",
            "Requirement already satisfied: cloudpickle>=1.2.0 in /usr/local/lib/python3.10/dist-packages (from gymnasium==0.28.1->ray[rllib]) (3.1.0)\n",
            "Requirement already satisfied: typing-extensions>=4.3.0 in /usr/local/lib/python3.10/dist-packages (from gymnasium==0.28.1->ray[rllib]) (4.12.2)\n",
            "Collecting farama-notifications>=0.0.1 (from gymnasium==0.28.1->ray[rllib])\n",
            "  Downloading Farama_Notifications-0.0.4-py3-none-any.whl.metadata (558 bytes)\n",
            "Requirement already satisfied: attrs>=22.2.0 in /usr/local/lib/python3.10/dist-packages (from jsonschema->ray[rllib]) (24.2.0)\n",
            "Requirement already satisfied: jsonschema-specifications>=2023.03.6 in /usr/local/lib/python3.10/dist-packages (from jsonschema->ray[rllib]) (2024.10.1)\n",
            "Requirement already satisfied: referencing>=0.28.4 in /usr/local/lib/python3.10/dist-packages (from jsonschema->ray[rllib]) (0.35.1)\n",
            "Requirement already satisfied: rpds-py>=0.7.1 in /usr/local/lib/python3.10/dist-packages (from jsonschema->ray[rllib]) (0.22.3)\n",
            "Requirement already satisfied: python-dateutil>=2.8.2 in /usr/local/lib/python3.10/dist-packages (from pandas->ray[rllib]) (2.8.2)\n",
            "Requirement already satisfied: pytz>=2020.1 in /usr/local/lib/python3.10/dist-packages (from pandas->ray[rllib]) (2024.2)\n",
            "Requirement already satisfied: tzdata>=2022.7 in /usr/local/lib/python3.10/dist-packages (from pandas->ray[rllib]) (2024.2)\n",
            "Requirement already satisfied: charset-normalizer<4,>=2 in /usr/local/lib/python3.10/dist-packages (from requests->ray[rllib]) (3.4.0)\n",
            "Requirement already satisfied: idna<4,>=2.5 in /usr/local/lib/python3.10/dist-packages (from requests->ray[rllib]) (3.10)\n",
            "Requirement already satisfied: urllib3<3,>=1.21.1 in /usr/local/lib/python3.10/dist-packages (from requests->ray[rllib]) (2.2.3)\n",
            "Requirement already satisfied: certifi>=2017.4.17 in /usr/local/lib/python3.10/dist-packages (from requests->ray[rllib]) (2024.8.30)\n",
            "Requirement already satisfied: markdown-it-py>=2.2.0 in /usr/local/lib/python3.10/dist-packages (from rich->ray[rllib]) (3.0.0)\n",
            "Requirement already satisfied: pygments<3.0.0,>=2.13.0 in /usr/local/lib/python3.10/dist-packages (from rich->ray[rllib]) (2.18.0)\n",
            "Requirement already satisfied: networkx>=2.8 in /usr/local/lib/python3.10/dist-packages (from scikit-image->ray[rllib]) (3.4.2)\n",
            "Requirement already satisfied: pillow>=9.1 in /usr/local/lib/python3.10/dist-packages (from scikit-image->ray[rllib]) (11.0.0)\n",
            "Requirement already satisfied: imageio>=2.33 in /usr/local/lib/python3.10/dist-packages (from scikit-image->ray[rllib]) (2.36.1)\n",
            "Requirement already satisfied: tifffile>=2022.8.12 in /usr/local/lib/python3.10/dist-packages (from scikit-image->ray[rllib]) (2024.9.20)\n",
            "Requirement already satisfied: lazy-loader>=0.4 in /usr/local/lib/python3.10/dist-packages (from scikit-image->ray[rllib]) (0.4)\n",
            "Requirement already satisfied: shellingham>=1.3.0 in /usr/local/lib/python3.10/dist-packages (from typer->ray[rllib]) (1.5.4)\n",
            "Requirement already satisfied: mdurl~=0.1 in /usr/local/lib/python3.10/dist-packages (from markdown-it-py>=2.2.0->rich->ray[rllib]) (0.1.2)\n",
            "Requirement already satisfied: six>=1.5 in /usr/local/lib/python3.10/dist-packages (from python-dateutil>=2.8.2->pandas->ray[rllib]) (1.16.0)\n",
            "Downloading gymnasium-0.28.1-py3-none-any.whl (925 kB)\n",
            "\u001b[2K   \u001b[90m━━━━━━━━━━━━━━━━━━━━━━━━━━━━━━━━━━━━━━━━\u001b[0m \u001b[32m925.5/925.5 kB\u001b[0m \u001b[31m14.6 MB/s\u001b[0m eta \u001b[36m0:00:00\u001b[0m\n",
            "\u001b[?25hDownloading tensorboardX-2.6.2.2-py2.py3-none-any.whl (101 kB)\n",
            "\u001b[2K   \u001b[90m━━━━━━━━━━━━━━━━━━━━━━━━━━━━━━━━━━━━━━━━\u001b[0m \u001b[32m101.7/101.7 kB\u001b[0m \u001b[31m7.4 MB/s\u001b[0m eta \u001b[36m0:00:00\u001b[0m\n",
            "\u001b[?25hDownloading lz4-4.3.3-cp310-cp310-manylinux_2_17_x86_64.manylinux2014_x86_64.whl (1.3 MB)\n",
            "\u001b[2K   \u001b[90m━━━━━━━━━━━━━━━━━━━━━━━━━━━━━━━━━━━━━━━━\u001b[0m \u001b[32m1.3/1.3 MB\u001b[0m \u001b[31m41.4 MB/s\u001b[0m eta \u001b[36m0:00:00\u001b[0m\n",
            "\u001b[?25hDownloading Farama_Notifications-0.0.4-py3-none-any.whl (2.5 kB)\n",
            "Downloading jax_jumpy-1.0.0-py3-none-any.whl (20 kB)\n",
            "Installing collected packages: farama-notifications, tensorboardX, lz4, jax-jumpy, gymnasium\n",
            "Successfully installed farama-notifications-0.0.4 gymnasium-0.28.1 jax-jumpy-1.0.0 lz4-4.3.3 tensorboardX-2.6.2.2\n"
          ]
        }
      ]
    },
    {
      "cell_type": "markdown",
      "source": [
        "Bước 2: Import driver - Có thể không cần chạy"
      ],
      "metadata": {
        "id": "VbJmMHbrhkHL"
      }
    },
    {
      "cell_type": "code",
      "source": [
        "# Connect Driver\n",
        "from google.colab import drive\n",
        "drive.mount('/content/drive')"
      ],
      "metadata": {
        "colab": {
          "base_uri": "https://localhost:8080/"
        },
        "id": "_9sASgORbN3U",
        "outputId": "b6e8b2e1-a2bf-434b-a0e8-73a37ac1d05a"
      },
      "execution_count": null,
      "outputs": [
        {
          "output_type": "stream",
          "name": "stdout",
          "text": [
            "Mounted at /content/drive\n"
          ]
        }
      ]
    },
    {
      "cell_type": "markdown",
      "source": [
        "Bước 3: Import các thư viện"
      ],
      "metadata": {
        "id": "c3nyFg9xhpCZ"
      }
    },
    {
      "cell_type": "code",
      "execution_count": null,
      "metadata": {
        "id": "MLp9aNzWazp9"
      },
      "outputs": [],
      "source": [
        "# import libraries\n",
        "import ray\n",
        "from pyarrow import csv\n",
        "import matplotlib.pyplot as plt\n",
        "import seaborn as sns\n",
        "import flwr as fl\n",
        "from flwr.common import Metrics\n",
        "from flwr.simulation.ray_transport.utils import enable_tf_gpu_growth\n",
        "import math\n",
        "from typing import Dict, List, Tuple\n",
        "import glob\n",
        "from flwr.simulation import run_simulation\n",
        "import tensorflow as tf\n",
        "\n",
        "from sklearn.metrics import accuracy_score, classification_report, confusion_matrix, roc_auc_score, precision_recall_curve, auc, average_precision_score, f1_score\n",
        "from tensorflow.keras.models import load_model\n",
        "import pandas as pd\n",
        "import numpy as np\n",
        "import sys\n",
        "import sklearn\n",
        "import io\n",
        "import random\n",
        "import matplotlib.pyplot as plt\n",
        "from keras.layers import Convolution1D, Dense, Dropout, Flatten, MaxPooling1D, GRU\n",
        "from sklearn.preprocessing import MinMaxScaler, StandardScaler, LabelEncoder, Normalizer\n",
        "from sklearn.model_selection import train_test_split\n"
      ]
    },
    {
      "cell_type": "markdown",
      "source": [
        "#Features - CIC_UNSW-NB15"
      ],
      "metadata": {
        "id": "ehvGamNj4vHv"
      }
    },
    {
      "cell_type": "markdown",
      "source": [
        "Bước 4: Khai báo features có trong CIC-UNSWNB15"
      ],
      "metadata": {
        "id": "9jr6GM_3iex6"
      }
    },
    {
      "cell_type": "code",
      "source": [
        "CSV_HEADER=['Flow Duration', 'Total Fwd Packet', 'Total Bwd packets',\n",
        "       'Total Length of Fwd Packet', 'Total Length of Bwd Packet',\n",
        "       'Fwd Packet Length Max', 'Fwd Packet Length Min',\n",
        "       'Fwd Packet Length Mean', 'Fwd Packet Length Std',\n",
        "       'Bwd Packet Length Max', 'Bwd Packet Length Min',\n",
        "       'Bwd Packet Length Mean', 'Bwd Packet Length Std', 'Flow Bytes/s',\n",
        "       'Flow Packets/s', 'Flow IAT Mean', 'Flow IAT Std', 'Flow IAT Max',\n",
        "       'Flow IAT Min', 'Fwd IAT Total', 'Fwd IAT Mean', 'Fwd IAT Std',\n",
        "       'Fwd IAT Max', 'Fwd IAT Min', 'Bwd IAT Total', 'Bwd IAT Mean',\n",
        "       'Bwd IAT Std', 'Bwd IAT Max', 'Bwd IAT Min', 'Fwd PSH Flags',\n",
        "       'Bwd PSH Flags', 'Fwd URG Flags', 'Bwd URG Flags', 'Fwd Header Length',\n",
        "       'Bwd Header Length', 'Fwd Packets/s', 'Bwd Packets/s',\n",
        "       'Packet Length Min', 'Packet Length Max', 'Packet Length Mean',\n",
        "       'Packet Length Std', 'Packet Length Variance', 'FIN Flag Count',\n",
        "       'SYN Flag Count', 'RST Flag Count', 'PSH Flag Count', 'ACK Flag Count',\n",
        "       'URG Flag Count', 'CWR Flag Count', 'ECE Flag Count', 'Down/Up Ratio',\n",
        "       'Average Packet Size', 'Fwd Segment Size Avg', 'Bwd Segment Size Avg',\n",
        "       'Fwd Bytes/Bulk Avg', 'Fwd Packet/Bulk Avg', 'Fwd Bulk Rate Avg',\n",
        "       'Bwd Bytes/Bulk Avg', 'Bwd Packet/Bulk Avg', 'Bwd Bulk Rate Avg',\n",
        "       'Subflow Fwd Packets', 'Subflow Fwd Bytes', 'Subflow Bwd Packets',\n",
        "       'Subflow Bwd Bytes', 'FWD Init Win Bytes', 'Bwd Init Win Bytes',\n",
        "       'Fwd Act Data Pkts', 'Fwd Seg Size Min', 'Active Mean', 'Active Std',\n",
        "       'Active Max', 'Active Min', 'Idle Mean', 'Idle Std', 'Idle Max',\n",
        "       'Idle Min', 'Label', 'attack_cat'] # bo Src_IP, Dst_IP, Timestamp, {'Flow ID', 'Src Port', 'Dst Port', 'Protocol'}\n",
        "CSV_HEADER_WITHOUT_LABEL = ['Flow Duration', 'Total Fwd Packet', 'Total Bwd packets',\n",
        "       'Total Length of Fwd Packet', 'Total Length of Bwd Packet',\n",
        "       'Fwd Packet Length Max', 'Fwd Packet Length Min',\n",
        "       'Fwd Packet Length Mean', 'Fwd Packet Length Std',\n",
        "       'Bwd Packet Length Max', 'Bwd Packet Length Min',\n",
        "       'Bwd Packet Length Mean', 'Bwd Packet Length Std', 'Flow Bytes/s',\n",
        "       'Flow Packets/s', 'Flow IAT Mean', 'Flow IAT Std', 'Flow IAT Max',\n",
        "       'Flow IAT Min', 'Fwd IAT Total', 'Fwd IAT Mean', 'Fwd IAT Std',\n",
        "       'Fwd IAT Max', 'Fwd IAT Min', 'Bwd IAT Total', 'Bwd IAT Mean',\n",
        "       'Bwd IAT Std', 'Bwd IAT Max', 'Bwd IAT Min', 'Fwd PSH Flags',\n",
        "       'Bwd PSH Flags', 'Fwd URG Flags', 'Bwd URG Flags', 'Fwd Header Length',\n",
        "       'Bwd Header Length', 'Fwd Packets/s', 'Bwd Packets/s',\n",
        "       'Packet Length Min', 'Packet Length Max', 'Packet Length Mean',\n",
        "       'Packet Length Std', 'Packet Length Variance', 'FIN Flag Count',\n",
        "       'SYN Flag Count', 'RST Flag Count', 'PSH Flag Count', 'ACK Flag Count',\n",
        "       'URG Flag Count', 'CWR Flag Count', 'ECE Flag Count', 'Down/Up Ratio',\n",
        "       'Average Packet Size', 'Fwd Segment Size Avg', 'Bwd Segment Size Avg',\n",
        "       'Fwd Bytes/Bulk Avg', 'Fwd Packet/Bulk Avg', 'Fwd Bulk Rate Avg',\n",
        "       'Bwd Bytes/Bulk Avg', 'Bwd Packet/Bulk Avg', 'Bwd Bulk Rate Avg',\n",
        "       'Subflow Fwd Packets', 'Subflow Fwd Bytes', 'Subflow Bwd Packets',\n",
        "       'Subflow Bwd Bytes', 'FWD Init Win Bytes', 'Bwd Init Win Bytes',\n",
        "       'Fwd Act Data Pkts', 'Fwd Seg Size Min', 'Active Mean', 'Active Std',\n",
        "       'Active Max', 'Active Min', 'Idle Mean', 'Idle Std', 'Idle Max',\n",
        "       'Idle Min']\n",
        "\n",
        "# Bảng mã hóa\n",
        "encoded_to_original = {\n",
        "    0: 'Benign',\n",
        "    1: 'Analysis',\n",
        "    2: 'Backdoor',\n",
        "    3: 'DoS',\n",
        "    4: 'Exploits',\n",
        "    5: 'Fuzzers',\n",
        "    6: 'Generic',\n",
        "    7: 'Reconnaissance',\n",
        "    8: 'Shellcode',\n",
        "    9: 'Worms'\n",
        "}\n",
        "# decoded_labels = [encoded_to_original[label] for label in y_pred]\n",
        "# decoded_labels"
      ],
      "metadata": {
        "colab": {
          "base_uri": "https://localhost:8080/"
        },
        "id": "a1-xXx8G425d",
        "outputId": "a02bdb7f-e014-4497-8fa8-60cd10b79fb7"
      },
      "execution_count": null,
      "outputs": [
        {
          "output_type": "stream",
          "name": "stderr",
          "text": [
            "/usr/local/lib/python3.10/dist-packages/ipykernel/ipkernel.py:283: DeprecationWarning: `should_run_async` will not call `transform_cell` automatically in the future. Please pass the result to `transformed_cell` argument and any exception that happen during thetransform in `preprocessing_exc_tuple` in IPython 7.17 and above.\n",
            "  and should_run_async(code)\n"
          ]
        }
      ]
    },
    {
      "cell_type": "markdown",
      "source": [
        "#CIC_UNSW_NB15"
      ],
      "metadata": {
        "id": "cpabI1YcRyEQ"
      }
    },
    {
      "cell_type": "markdown",
      "source": [
        "Bước 6: Đọc và xử lý dữ liệu"
      ],
      "metadata": {
        "id": "jNs_pohMiniE"
      }
    },
    {
      "cell_type": "code",
      "source": [
        "df = pd.read_csv(\"/content/drive/MyDrive/AnToanHeThongThongTin-CH2024/CIC_UNSW-LABEL_Attack_cat.csv\")\n",
        "df = df.drop(['attack_cat'], axis=1) #Tách attack_cat ra khỏi\n",
        "scaler = StandardScaler() # sử dụng Standard Scaler để xử lý dữ liệu.\n",
        "scaler = scaler.fit(df[CSV_HEADER_WITHOUT_LABEL])\n",
        "df[CSV_HEADER_WITHOUT_LABEL] = scaler.transform(df[CSV_HEADER_WITHOUT_LABEL])"
      ],
      "metadata": {
        "id": "8bllg777CfkX"
      },
      "execution_count": null,
      "outputs": []
    },
    {
      "cell_type": "code",
      "source": [
        "#Chia data_test\n",
        "train_data,test_data = train_test_split(df,test_size=0.2,random_state=40)\n",
        "train_data_1 ,train_data_2 = train_test_split(train_data,test_size=0.5,random_state=40)\n",
        "train_data_1.to_csv(\"train_data_1.csv\", index=False, header=True)\n",
        "train_data_2.to_csv(\"train_data_2.csv\", index=False, header=True)\n",
        "#train_data.to_csv(\"train_data.csv\", index=False, header=True)\n",
        "test_data.to_csv(\"test_data.csv\", index=False, header=True)"
      ],
      "metadata": {
        "id": "Kq-T0vo_DDBx"
      },
      "execution_count": null,
      "outputs": []
    },
    {
      "cell_type": "markdown",
      "source": [
        "#Client and Server for Distributed"
      ],
      "metadata": {
        "id": "H58UQ48XnjMn"
      }
    },
    {
      "cell_type": "markdown",
      "source": [
        "Bước 7: Khởi tạo FlowerClient"
      ],
      "metadata": {
        "id": "xPrh7A6Xi_jJ"
      }
    },
    {
      "cell_type": "code",
      "source": [
        "class FlowerClient(fl.client.NumPyClient):\n",
        "    def __init__(self, x_train, y_train,model) -> None:\n",
        "        # Create model\n",
        "        self.model = model\n",
        "        self.x_train, self.y_train = x_train, y_train\n",
        "\n",
        "    def get_parameters(self, config):\n",
        "        return self.model.get_weights()\n",
        "\n",
        "    def fit(self, parameters, config):\n",
        "\n",
        "        self.model.set_weights(parameters)\n",
        "        self.model.fit(\n",
        "             self.x_train,  self.y_train, epochs=3, batch_size=32, verbose=VERBOSE\n",
        "        )\n",
        "        return self.model.get_weights(), len(self.x_train), {}"
      ],
      "metadata": {
        "id": "YFdE5xQtnvKr"
      },
      "execution_count": null,
      "outputs": []
    },
    {
      "cell_type": "code",
      "source": [
        "def get_client_fn(dataset_partitions,model):\n",
        "    \"\"\"Return a function to be executed by the VirtualClientEngine in order to construct\n",
        "    a client.\"\"\"\n",
        "\n",
        "    def client_fn(cid: str) -> fl.client.Client:\n",
        "        \"\"\"Construct a FlowerClient with its own dataset partition.\"\"\"\n",
        "\n",
        "        # Extract partition for client with id = cid\n",
        "        x_train, y_train = dataset_partitions[int(cid)]\n",
        "\n",
        "        # Create and return client\n",
        "        return FlowerClient(x_train, y_train, model)\n",
        "\n",
        "    return client_fn\n",
        "\n",
        "\n",
        "def partition_dataset(x, y, num_clients):\n",
        "    partition_size = math.floor(len(x) / num_clients)\n",
        "    partitions = []\n",
        "    for i in range(num_clients):\n",
        "        idx_from, idx_to = i * partition_size, (i + 1) * partition_size\n",
        "        partitions.append((x[idx_from:idx_to], y[idx_from:idx_to]))\n",
        "    return partitions\n",
        "\n",
        "def get_evaluate_fn(model,file_path):\n",
        "    \"\"\"Return an evaluation function for server-side (i.e. centralized) evaluation.\"\"\"\n",
        "\n",
        "    # The `evaluate` function will be called after every round by the strategy\n",
        "    def evaluate(\n",
        "        server_round: int,\n",
        "        parameters: fl.common.NDArrays,\n",
        "        config: Dict[str, fl.common.Scalar],\n",
        "    ):\n",
        "        model.set_weights(parameters)  # Update model with the latest parameters\n",
        "        model.save(file_path)\n",
        "        # model_report(model,x_test,y_test)\n",
        "        return\n",
        "\n",
        "    return evaluate\n"
      ],
      "metadata": {
        "id": "g4rpvo98nx9H"
      },
      "execution_count": null,
      "outputs": []
    },
    {
      "cell_type": "markdown",
      "source": [
        "## Chạy 1 trong hai bước sau"
      ],
      "metadata": {
        "id": "nMHJD4pvjJuJ"
      }
    },
    {
      "cell_type": "markdown",
      "source": [
        "Bước 7.1 - Dành cho multiclass"
      ],
      "metadata": {
        "id": "IiYnyiIkjDAJ"
      }
    },
    {
      "cell_type": "code",
      "source": [
        "def get_partitions_multiclass(data_path):\n",
        "    partitions = []\n",
        "\n",
        "    for f in glob.glob(data_path):\n",
        "        data = pd.read_csv(f, header=0)\n",
        "\n",
        "        data.columns = data.columns.str.strip()\n",
        "\n",
        "        # data = data[data[\"Class\"] != ' null']\n",
        "        # data[\"Class\"] = data[\"Class\"].replace({' \"-1\"' : 0 , ' \"Facet\"' : 1 })\n",
        "        # data[\"Class\"] = data[\"Class\"].replace({'-1' : 0, 'Facet' : 1 })\n",
        "        # data[\"Class\"] = data[\"Class\"].replace({' -1' : 0, ' Facet' : 1 })\n",
        "        # data[\"Class\"] = data[\"Class\"].replace(np.nan,'benign')\n",
        "        #data[\"label\"] = np.where(data[\"label\"]=='normal',0,1) # 'normal' -> 0, other ->1\n",
        "        #data = data.sample(frac = 1).reset_index(drop=True)\n",
        "\n",
        "        x_data = data.iloc[:,:-1]\n",
        "        y_data = data[\"Label\"]\n",
        "\n",
        "        partitions.append((x_data.to_numpy(),y_data.to_numpy()))\n",
        "\n",
        "    return partitions"
      ],
      "metadata": {
        "id": "DcBzFSrtoH-L"
      },
      "execution_count": null,
      "outputs": []
    },
    {
      "cell_type": "markdown",
      "source": [
        "Bước 7.2 - Dành cho Binary class"
      ],
      "metadata": {
        "id": "S03G8FzWjFDj"
      }
    },
    {
      "cell_type": "code",
      "source": [
        "def get_partitions_binary(data_path):\n",
        "    partitions = []\n",
        "\n",
        "    for f in glob.glob(data_path):\n",
        "        data = pd.read_csv(f, header=0)\n",
        "\n",
        "        data.columns = data.columns.str.strip()\n",
        "\n",
        "        # data = data[data[\"Class\"] != ' null']\n",
        "        # data[\"Class\"] = data[\"Class\"].replace({' \"-1\"' : 0 , ' \"Facet\"' : 1 })\n",
        "        # data[\"Class\"] = data[\"Class\"].replace({'-1' : 0, 'Facet' : 1 })\n",
        "        # data[\"Class\"] = data[\"Class\"].replace({' -1' : 0, ' Facet' : 1 })\n",
        "        # data[\"Class\"] = data[\"Class\"].replace(np.nan,'benign')\n",
        "        data[\"Label\"] = np.where(data[\"Label\"]==0,0,1) # 'normal' -> 0, other ->1\n",
        "        #data = data.sample(frac = 1).reset_index(drop=True)\n",
        "\n",
        "        x_data = data.iloc[:,:-1]\n",
        "        y_data = data[\"Label\"]\n",
        "\n",
        "        partitions.append((x_data.to_numpy(),y_data.to_numpy()))\n",
        "\n",
        "    return partitions"
      ],
      "metadata": {
        "id": "WbdoV470QVzN"
      },
      "execution_count": null,
      "outputs": []
    },
    {
      "cell_type": "markdown",
      "source": [
        "#CREATE MODEL"
      ],
      "metadata": {
        "id": "BHwbRoBDnQYy"
      }
    },
    {
      "cell_type": "markdown",
      "source": [
        "Bước 8 - Hàm khởi tạo model - Chạy 1 trong hai tương ứng với Binary và Classification"
      ],
      "metadata": {
        "id": "ObM2pO4ZjNZq"
      }
    },
    {
      "cell_type": "markdown",
      "source": [
        "### Binary Class"
      ],
      "metadata": {
        "id": "PiT62F92jUaR"
      }
    },
    {
      "cell_type": "code",
      "source": [
        "from tensorflow.keras.models import Sequential\n",
        "from tensorflow.keras.layers import Dense\n",
        "from sklearn.neural_network import MLPClassifier\n",
        "\n",
        "# ANN Model Creationg Function\n",
        "def create_ann_model_binary(input_shape=(76,), hidden_units=None):\n",
        "    \"\"\"\n",
        "    Create a feedforward neural network model for binary classification with\n",
        "    the specified input shape.\n",
        "\n",
        "    Parameters:\n",
        "    - input_shape: Tuple specifying the shape of the input data.\n",
        "    - hidden_units: List of integers specifying the number of units in each hidden layer.\n",
        "                    Default is [64, 32].\n",
        "\n",
        "    Returns:\n",
        "    - A compiled Keras model.\n",
        "    \"\"\"\n",
        "\n",
        "    if hidden_units is None:\n",
        "        hidden_units = [64, 32]\n",
        "\n",
        "    model = Sequential()\n",
        "\n",
        "    # Input layer\n",
        "    model.add(Dense(hidden_units[0], activation='relu', input_shape=input_shape))\n",
        "    model.add(Dropout(0.2))\n",
        "\n",
        "    # Hidden layers\n",
        "    for units in hidden_units[1:]:\n",
        "        model.add(Dense(units, activation='relu'))\n",
        "        model.add(Dropout(0.2))\n",
        "\n",
        "    # Output layer for binary classification\n",
        "    model.add(Dense(1, activation='sigmoid'))\n",
        "\n",
        "    # Compile the model\n",
        "    model.compile(loss='binary_crossentropy', optimizer='nadam', metrics=['accuracy'])\n",
        "    return model"
      ],
      "metadata": {
        "id": "64iwkXbopMbM"
      },
      "execution_count": null,
      "outputs": []
    },
    {
      "cell_type": "markdown",
      "source": [
        "###Classification Class"
      ],
      "metadata": {
        "id": "LScQzVdAQZbv"
      }
    },
    {
      "cell_type": "code",
      "source": [
        "def create_ann_model_multiclass(input_shape=(76,), hidden_units=None, num_classes=10):\n",
        "    \"\"\"\n",
        "    Create a feedforward neural network model for multiclass classification with\n",
        "    the specified input shape and number of classes.\n",
        "\n",
        "    Parameters:\n",
        "    - input_shape: Tuple specifying the shape of the input data.\n",
        "    - hidden_units: List of integers specifying the number of units in each hidden layer.\n",
        "                    Default is [64, 32].\n",
        "    - num_classes: Integer specifying the number of output classes (e.g., 10 for multiclass classification).\n",
        "\n",
        "    Returns:\n",
        "    - A compiled Keras model.\n",
        "    \"\"\"\n",
        "    if hidden_units is None:\n",
        "        hidden_units = [64, 32]\n",
        "\n",
        "    model = Sequential()\n",
        "\n",
        "    # Input layer\n",
        "    model.add(Dense(hidden_units[0], activation='relu', input_shape=input_shape))\n",
        "    model.add(Dropout(0.2))\n",
        "\n",
        "    # Hidden layers\n",
        "    for units in hidden_units[1:]:\n",
        "        model.add(Dense(units, activation='relu'))\n",
        "        model.add(Dropout(0.2))\n",
        "\n",
        "    # Output layer for multiclass classification\n",
        "    model.add(Dense(num_classes, activation='softmax'))\n",
        "\n",
        "    # Compile the model\n",
        "    model.compile(\n",
        "        loss='sparse_categorical_crossentropy',  # Loss function for integer labels\n",
        "        optimizer='nadam',\n",
        "        metrics=['accuracy']\n",
        "    )\n",
        "\n",
        "    return model"
      ],
      "metadata": {
        "id": "IY5-pP_tFa3x"
      },
      "execution_count": null,
      "outputs": []
    },
    {
      "cell_type": "markdown",
      "source": [
        "#Train and TEST_model"
      ],
      "metadata": {
        "id": "cFCBXwoSnUwH"
      }
    },
    {
      "cell_type": "markdown",
      "source": [
        "Bước 9: Phần Train Và Test sẽ chia làm hai phần - Train và Test dữ liệu - Federated Learning với ai loại là Binary và Classification"
      ],
      "metadata": {
        "id": "XPLt7vJ9j0EB"
      }
    },
    {
      "cell_type": "markdown",
      "source": [
        "#Train model with Distributed Learning"
      ],
      "metadata": {
        "id": "5Vi5_pZGoPFH"
      }
    },
    {
      "cell_type": "markdown",
      "source": [
        "### Bước 9 - Khai báo các Global setting\n"
      ],
      "metadata": {
        "id": "K8JH4e7Onv_X"
      }
    },
    {
      "cell_type": "code",
      "source": [
        "VERBOSE = 0\n",
        "NUM_CLIENTS = 2\n",
        "# With a dictionary, you tell Flower's VirtualClientEngine that each\n",
        "# client needs exclusive access to these many resources in order to run\n",
        "client_resources = {\"num_cpus\":2,\"num_gpus\": 0}"
      ],
      "metadata": {
        "id": "eQWYM3qxn0e3"
      },
      "execution_count": null,
      "outputs": []
    },
    {
      "cell_type": "markdown",
      "source": [
        "### Train"
      ],
      "metadata": {
        "id": "aUJ9zZobose6"
      }
    },
    {
      "cell_type": "markdown",
      "source": [
        "Bước 10 - Train - Chọn một trong cái block sau tương ứng với Binary Và Classification"
      ],
      "metadata": {
        "id": "1bEVtGYUlB-K"
      }
    },
    {
      "cell_type": "markdown",
      "source": [
        "###Bước 10.1 - Binary training"
      ],
      "metadata": {
        "id": "kSHq9WT5ljay"
      }
    },
    {
      "cell_type": "code",
      "source": [
        "from flwr.simulation import run_simulation,start_simulation\n",
        "result = []\n",
        "\n",
        "partitions = get_partitions_binary(\"./dataset/*\") #Cho Phân loại nhị phân\n",
        "#partitions = get_partitions_multiclass(\"./dataset/*\") #Cho Phân loại đa lớp\n",
        "\n",
        "for _ in range(2):\n",
        "\n",
        "    hidden_units = [64,32]\n",
        "    output_model = f\"./models/binary/i_{_}.keras\" #Lưu trong Binary\n",
        "    #output_model = f\"./models/multiclass/i_{_}.keras\" #Lưu trong Multiclass\n",
        "\n",
        "    model = create_ann_model_binary(hidden_units=hidden_units) #làm cho nhị phân\n",
        "    #model = create_ann_model_multiclass(hidden_units=hidden_units) #Làm cho Multiclass\n",
        "\n",
        "    strategy = fl.server.strategy.FedAvg(\n",
        "    fraction_fit=1,\n",
        "    # min_fit_clients=10,\n",
        "    fraction_evaluate = 1,\n",
        "    min_available_clients = NUM_CLIENTS,\n",
        "    evaluate_fn = get_evaluate_fn(model,output_model),\n",
        "    )\n",
        "#     strategy = MedianFedAvg(\n",
        "#     fraction_fit=1,\n",
        "#     fraction_evaluate=1,\n",
        "#     min_available_clients=NUM_CLIENTS,\n",
        "#     evaluate_fn=get_evaluate_fn(model, output_model),\n",
        "# )\n",
        "\n",
        "    # Start simulation\n",
        "    history = fl.simulation.start_simulation(\n",
        "    client_fn=get_client_fn(partitions,model),\n",
        "    num_clients=NUM_CLIENTS,\n",
        "    config=fl.server.ServerConfig(num_rounds=3),\n",
        "    strategy=strategy,\n",
        "    client_resources=client_resources,\n",
        "    # actor_kwargs={\n",
        "    # \"on_actor_init_fn\": enable_tf_gpu_growth  },\n",
        "    )\n",
        "    del history\n",
        "    del strategy\n",
        "    del model\n",
        "\n",
        "    # model = load_model(output_model)\n",
        "    # s = model_report_list(model,test_data.copy())\n",
        "\n",
        "    # result.append(s)\n",
        "    # del model\n"
      ],
      "metadata": {
        "id": "hP2HEjs3liya"
      },
      "execution_count": null,
      "outputs": []
    },
    {
      "cell_type": "markdown",
      "source": [
        "###Bước 10.2 - Train Classification"
      ],
      "metadata": {
        "id": "3qpfxzdCxCcX"
      }
    },
    {
      "cell_type": "code",
      "source": [
        "from flwr.simulation import run_simulation,start_simulation\n",
        "result = []\n",
        "\n",
        "#partitions = get_partitions_binary(\"./dataset/*\") #Cho Phân loại nhị phân\n",
        "partitions = get_partitions_multiclass(\"./dataset/*\") #Cho Phân loại đa lớp\n",
        "\n",
        "for _ in range(2):\n",
        "\n",
        "    hidden_units = [64,32]\n",
        "    #output_model = f\"./models/binary/i_{_}.keras\" #Lưu trong Binary\n",
        "    output_model = f\"./models/multiclass/i_{_}.keras\" #Lưu trong Multiclass\n",
        "\n",
        "    #model = create_ann_model_binary(hidden_units=hidden_units) #làm cho nhị phân\n",
        "    model = create_ann_model_multiclass(hidden_units=hidden_units) #Làm cho Multiclass\n",
        "\n",
        "    strategy = fl.server.strategy.FedAvg(\n",
        "    fraction_fit=1,\n",
        "    # min_fit_clients=10,\n",
        "    fraction_evaluate = 1,\n",
        "    min_available_clients = NUM_CLIENTS,\n",
        "    evaluate_fn = get_evaluate_fn(model,output_model),\n",
        "    )\n",
        "#     strategy = MedianFedAvg(\n",
        "#     fraction_fit=1,\n",
        "#     fraction_evaluate=1,\n",
        "#     min_available_clients=NUM_CLIENTS,\n",
        "#     evaluate_fn=get_evaluate_fn(model, output_model),\n",
        "# )\n",
        "\n",
        "    # Start simulation\n",
        "    history = fl.simulation.start_simulation(\n",
        "    client_fn=get_client_fn(partitions,model),\n",
        "    num_clients=NUM_CLIENTS,\n",
        "    config=fl.server.ServerConfig(num_rounds=3),\n",
        "    strategy=strategy,\n",
        "    client_resources=client_resources,\n",
        "    # actor_kwargs={\n",
        "    # \"on_actor_init_fn\": enable_tf_gpu_growth  },\n",
        "    )\n",
        "    del history\n",
        "    del strategy\n",
        "    del model\n",
        "\n",
        "    # model = load_model(output_model)\n",
        "    # s = model_report_list(model,test_data.copy())\n",
        "\n",
        "    # result.append(s)\n",
        "    # del model\n"
      ],
      "metadata": {
        "colab": {
          "base_uri": "https://localhost:8080/"
        },
        "id": "UHjnE_pPoRtv",
        "outputId": "a744c046-1cb9-43a1-c7e7-f664bc6f5fb7"
      },
      "execution_count": null,
      "outputs": [
        {
          "output_type": "stream",
          "name": "stderr",
          "text": [
            "/usr/local/lib/python3.10/dist-packages/keras/src/layers/core/dense.py:87: UserWarning: Do not pass an `input_shape`/`input_dim` argument to a layer. When using Sequential models, prefer using an `Input(shape)` object as the first layer in the model instead.\n",
            "  super().__init__(activity_regularizer=activity_regularizer, **kwargs)\n",
            "\u001b[93mWARNING \u001b[0m:   DEPRECATED FEATURE: flwr.simulation.start_simulation() is deprecated.\n",
            "\tInstead, use the `flwr run` CLI command to start a local simulation in your Flower app, as shown for example below:\n",
            "\n",
            "\t\t$ flwr new  # Create a new Flower app from a template\n",
            "\n",
            "\t\t$ flwr run  # Run the Flower app in Simulation Mode\n",
            "\n",
            "\tUsing `start_simulation()` is deprecated.\n",
            "\n",
            "            This is a deprecated feature. It will be removed\n",
            "            entirely in future versions of Flower.\n",
            "        \n",
            "\u001b[92mINFO \u001b[0m:      Starting Flower simulation, config: num_rounds=3, no round_timeout\n",
            "2024-12-09 03:54:14,390\tINFO worker.py:1752 -- Started a local Ray instance.\n",
            "\u001b[92mINFO \u001b[0m:      Flower VCE: Ray initialized with resources: {'CPU': 2.0, 'memory': 7982530560.0, 'object_store_memory': 3991265280.0, 'node:__internal_head__': 1.0, 'node:172.28.0.12': 1.0}\n",
            "\u001b[92mINFO \u001b[0m:      Optimize your simulation with Flower VCE: https://flower.ai/docs/framework/how-to-run-simulations.html\n",
            "\u001b[92mINFO \u001b[0m:      Flower VCE: Resources for each Virtual Client: {'num_cpus': 2, 'num_gpus': 0}\n",
            "\u001b[92mINFO \u001b[0m:      Flower VCE: Creating VirtualClientEngineActorPool with 1 actors\n",
            "\u001b[92mINFO \u001b[0m:      [INIT]\n",
            "\u001b[92mINFO \u001b[0m:      Requesting initial parameters from one random client\n",
            "\u001b[36m(pid=34634)\u001b[0m 2024-12-09 03:54:19.893669: E external/local_xla/xla/stream_executor/cuda/cuda_fft.cc:485] Unable to register cuFFT factory: Attempting to register factory for plugin cuFFT when one has already been registered\n",
            "\u001b[36m(pid=34634)\u001b[0m 2024-12-09 03:54:19.920944: E external/local_xla/xla/stream_executor/cuda/cuda_dnn.cc:8454] Unable to register cuDNN factory: Attempting to register factory for plugin cuDNN when one has already been registered\n",
            "\u001b[36m(pid=34634)\u001b[0m 2024-12-09 03:54:19.928445: E external/local_xla/xla/stream_executor/cuda/cuda_blas.cc:1452] Unable to register cuBLAS factory: Attempting to register factory for plugin cuBLAS when one has already been registered\n",
            "\u001b[36m(pid=34634)\u001b[0m 2024-12-09 03:54:21.421249: W tensorflow/compiler/tf2tensorrt/utils/py_utils.cc:38] TF-TRT Warning: Could not find TensorRT\n",
            "\u001b[92mINFO \u001b[0m:      Received initial parameters from one random client\n",
            "\u001b[92mINFO \u001b[0m:      Starting evaluation of initial global parameters\n",
            "\u001b[92mINFO \u001b[0m:      Evaluation returned no results (`None`)\n",
            "\u001b[92mINFO \u001b[0m:      \n",
            "\u001b[92mINFO \u001b[0m:      [ROUND 1]\n",
            "\u001b[92mINFO \u001b[0m:      configure_fit: strategy sampled 2 clients (out of 2)\n",
            "\u001b[36m(ClientAppActor pid=34634)\u001b[0m /usr/local/lib/python3.10/dist-packages/keras/src/saving/saving_lib.py:713: UserWarning: Skipping variable loading for optimizer 'nadam', because it has 15 variables whereas the saved optimizer has 2 variables. \n",
            "\u001b[36m(ClientAppActor pid=34634)\u001b[0m   saveable.load_own_variables(weights_store.get(inner_path))\n",
            "\u001b[36m(ClientAppActor pid=34634)\u001b[0m \u001b[93mWARNING \u001b[0m:   DEPRECATED FEATURE: `client_fn` now expects a signature `def client_fn(context: Context)`.The provided `client_fn` has signature: {'cid': <Parameter \"cid: str\">}. You can import the `Context` like this: `from flwr.common import Context`\n",
            "\u001b[36m(ClientAppActor pid=34634)\u001b[0m \n",
            "\u001b[36m(ClientAppActor pid=34634)\u001b[0m             This is a deprecated feature. It will be removed\n",
            "\u001b[36m(ClientAppActor pid=34634)\u001b[0m             entirely in future versions of Flower.\n",
            "\u001b[36m(ClientAppActor pid=34634)\u001b[0m         \n",
            "\u001b[36m(ClientAppActor pid=34634)\u001b[0m \u001b[93mWARNING \u001b[0m:   Deprecation Warning: The `client_fn` function must return an instance of `Client`, but an instance of `NumpyClient` was returned. Please use `NumPyClient.to_client()` method to convert it to `Client`.\n",
            "\u001b[36m(ClientAppActor pid=34634)\u001b[0m \u001b[93mWARNING \u001b[0m:   DEPRECATED FEATURE: `client_fn` now expects a signature `def client_fn(context: Context)`.The provided `client_fn` has signature: {'cid': <Parameter \"cid: str\">}. You can import the `Context` like this: `from flwr.common import Context`\n",
            "\u001b[36m(ClientAppActor pid=34634)\u001b[0m \n",
            "\u001b[36m(ClientAppActor pid=34634)\u001b[0m             This is a deprecated feature. It will be removed\n",
            "\u001b[36m(ClientAppActor pid=34634)\u001b[0m             entirely in future versions of Flower.\n",
            "\u001b[36m(ClientAppActor pid=34634)\u001b[0m         \n",
            "\u001b[36m(ClientAppActor pid=34634)\u001b[0m \u001b[93mWARNING \u001b[0m:   Deprecation Warning: The `client_fn` function must return an instance of `Client`, but an instance of `NumpyClient` was returned. Please use `NumPyClient.to_client()` method to convert it to `Client`.\n",
            "\u001b[36m(ClientAppActor pid=34634)\u001b[0m \u001b[93mWARNING \u001b[0m:   DEPRECATED FEATURE: `client_fn` now expects a signature `def client_fn(context: Context)`.The provided `client_fn` has signature: {'cid': <Parameter \"cid: str\">}. You can import the `Context` like this: `from flwr.common import Context`\n",
            "\u001b[36m(ClientAppActor pid=34634)\u001b[0m \n",
            "\u001b[36m(ClientAppActor pid=34634)\u001b[0m             This is a deprecated feature. It will be removed\n",
            "\u001b[36m(ClientAppActor pid=34634)\u001b[0m             entirely in future versions of Flower.\n",
            "\u001b[36m(ClientAppActor pid=34634)\u001b[0m         \n",
            "\u001b[36m(ClientAppActor pid=34634)\u001b[0m \u001b[93mWARNING \u001b[0m:   Deprecation Warning: The `client_fn` function must return an instance of `Client`, but an instance of `NumpyClient` was returned. Please use `NumPyClient.to_client()` method to convert it to `Client`.\n",
            "\u001b[92mINFO \u001b[0m:      aggregate_fit: received 2 results and 0 failures\n",
            "\u001b[93mWARNING \u001b[0m:   No fit_metrics_aggregation_fn provided\n",
            "\u001b[92mINFO \u001b[0m:      configure_evaluate: strategy sampled 2 clients (out of 2)\n",
            "\u001b[36m(ClientAppActor pid=34634)\u001b[0m \u001b[93mWARNING \u001b[0m:   DEPRECATED FEATURE: `client_fn` now expects a signature `def client_fn(context: Context)`.The provided `client_fn` has signature: {'cid': <Parameter \"cid: str\">}. You can import the `Context` like this: `from flwr.common import Context`\n",
            "\u001b[36m(ClientAppActor pid=34634)\u001b[0m \n",
            "\u001b[36m(ClientAppActor pid=34634)\u001b[0m             This is a deprecated feature. It will be removed\n",
            "\u001b[36m(ClientAppActor pid=34634)\u001b[0m             entirely in future versions of Flower.\n",
            "\u001b[36m(ClientAppActor pid=34634)\u001b[0m         \n",
            "\u001b[36m(ClientAppActor pid=34634)\u001b[0m \u001b[93mWARNING \u001b[0m:   Deprecation Warning: The `client_fn` function must return an instance of `Client`, but an instance of `NumpyClient` was returned. Please use `NumPyClient.to_client()` method to convert it to `Client`.\n",
            "\u001b[92mINFO \u001b[0m:      aggregate_evaluate: received 0 results and 2 failures\n",
            "\u001b[92mINFO \u001b[0m:      \n",
            "\u001b[92mINFO \u001b[0m:      [ROUND 2]\n",
            "\u001b[92mINFO \u001b[0m:      configure_fit: strategy sampled 2 clients (out of 2)\n",
            "\u001b[36m(ClientAppActor pid=34634)\u001b[0m \u001b[93mWARNING \u001b[0m:   DEPRECATED FEATURE: `client_fn` now expects a signature `def client_fn(context: Context)`.The provided `client_fn` has signature: {'cid': <Parameter \"cid: str\">}. You can import the `Context` like this: `from flwr.common import Context`\n",
            "\u001b[36m(ClientAppActor pid=34634)\u001b[0m \n",
            "\u001b[36m(ClientAppActor pid=34634)\u001b[0m             This is a deprecated feature. It will be removed\n",
            "\u001b[36m(ClientAppActor pid=34634)\u001b[0m             entirely in future versions of Flower.\n",
            "\u001b[36m(ClientAppActor pid=34634)\u001b[0m         \n",
            "\u001b[36m(ClientAppActor pid=34634)\u001b[0m \u001b[93mWARNING \u001b[0m:   Deprecation Warning: The `client_fn` function must return an instance of `Client`, but an instance of `NumpyClient` was returned. Please use `NumPyClient.to_client()` method to convert it to `Client`.\n",
            "\u001b[36m(ClientAppActor pid=34634)\u001b[0m \u001b[93mWARNING \u001b[0m:   DEPRECATED FEATURE: `client_fn` now expects a signature `def client_fn(context: Context)`.The provided `client_fn` has signature: {'cid': <Parameter \"cid: str\">}. You can import the `Context` like this: `from flwr.common import Context`\n",
            "\u001b[36m(ClientAppActor pid=34634)\u001b[0m \n",
            "\u001b[36m(ClientAppActor pid=34634)\u001b[0m             This is a deprecated feature. It will be removed\n",
            "\u001b[36m(ClientAppActor pid=34634)\u001b[0m             entirely in future versions of Flower.\n",
            "\u001b[36m(ClientAppActor pid=34634)\u001b[0m         \n",
            "\u001b[36m(ClientAppActor pid=34634)\u001b[0m \u001b[93mWARNING \u001b[0m:   Deprecation Warning: The `client_fn` function must return an instance of `Client`, but an instance of `NumpyClient` was returned. Please use `NumPyClient.to_client()` method to convert it to `Client`.\n",
            "\u001b[36m(ClientAppActor pid=34634)\u001b[0m \u001b[93mWARNING \u001b[0m:   DEPRECATED FEATURE: `client_fn` now expects a signature `def client_fn(context: Context)`.The provided `client_fn` has signature: {'cid': <Parameter \"cid: str\">}. You can import the `Context` like this: `from flwr.common import Context`\n",
            "\u001b[36m(ClientAppActor pid=34634)\u001b[0m \n",
            "\u001b[36m(ClientAppActor pid=34634)\u001b[0m             This is a deprecated feature. It will be removed\n",
            "\u001b[36m(ClientAppActor pid=34634)\u001b[0m             entirely in future versions of Flower.\n",
            "\u001b[36m(ClientAppActor pid=34634)\u001b[0m         \n",
            "\u001b[36m(ClientAppActor pid=34634)\u001b[0m \u001b[93mWARNING \u001b[0m:   Deprecation Warning: The `client_fn` function must return an instance of `Client`, but an instance of `NumpyClient` was returned. Please use `NumPyClient.to_client()` method to convert it to `Client`.\n",
            "\u001b[92mINFO \u001b[0m:      aggregate_fit: received 2 results and 0 failures\n",
            "\u001b[92mINFO \u001b[0m:      configure_evaluate: strategy sampled 2 clients (out of 2)\n",
            "\u001b[36m(ClientAppActor pid=34634)\u001b[0m \u001b[93mWARNING \u001b[0m:   DEPRECATED FEATURE: `client_fn` now expects a signature `def client_fn(context: Context)`.The provided `client_fn` has signature: {'cid': <Parameter \"cid: str\">}. You can import the `Context` like this: `from flwr.common import Context`\n",
            "\u001b[36m(ClientAppActor pid=34634)\u001b[0m \n",
            "\u001b[36m(ClientAppActor pid=34634)\u001b[0m             This is a deprecated feature. It will be removed\n",
            "\u001b[36m(ClientAppActor pid=34634)\u001b[0m             entirely in future versions of Flower.\n",
            "\u001b[36m(ClientAppActor pid=34634)\u001b[0m         \n",
            "\u001b[36m(ClientAppActor pid=34634)\u001b[0m \u001b[93mWARNING \u001b[0m:   Deprecation Warning: The `client_fn` function must return an instance of `Client`, but an instance of `NumpyClient` was returned. Please use `NumPyClient.to_client()` method to convert it to `Client`.\n",
            "\u001b[92mINFO \u001b[0m:      aggregate_evaluate: received 0 results and 2 failures\n",
            "\u001b[92mINFO \u001b[0m:      \n",
            "\u001b[92mINFO \u001b[0m:      [ROUND 3]\n",
            "\u001b[92mINFO \u001b[0m:      configure_fit: strategy sampled 2 clients (out of 2)\n",
            "\u001b[36m(ClientAppActor pid=34634)\u001b[0m \u001b[93mWARNING \u001b[0m:   DEPRECATED FEATURE: `client_fn` now expects a signature `def client_fn(context: Context)`.The provided `client_fn` has signature: {'cid': <Parameter \"cid: str\">}. You can import the `Context` like this: `from flwr.common import Context`\n",
            "\u001b[36m(ClientAppActor pid=34634)\u001b[0m \n",
            "\u001b[36m(ClientAppActor pid=34634)\u001b[0m             This is a deprecated feature. It will be removed\n",
            "\u001b[36m(ClientAppActor pid=34634)\u001b[0m             entirely in future versions of Flower.\n",
            "\u001b[36m(ClientAppActor pid=34634)\u001b[0m         \n",
            "\u001b[36m(ClientAppActor pid=34634)\u001b[0m \u001b[93mWARNING \u001b[0m:   Deprecation Warning: The `client_fn` function must return an instance of `Client`, but an instance of `NumpyClient` was returned. Please use `NumPyClient.to_client()` method to convert it to `Client`.\n",
            "\u001b[36m(ClientAppActor pid=34634)\u001b[0m \u001b[93mWARNING \u001b[0m:   DEPRECATED FEATURE: `client_fn` now expects a signature `def client_fn(context: Context)`.The provided `client_fn` has signature: {'cid': <Parameter \"cid: str\">}. You can import the `Context` like this: `from flwr.common import Context`\n",
            "\u001b[36m(ClientAppActor pid=34634)\u001b[0m \n",
            "\u001b[36m(ClientAppActor pid=34634)\u001b[0m             This is a deprecated feature. It will be removed\n",
            "\u001b[36m(ClientAppActor pid=34634)\u001b[0m             entirely in future versions of Flower.\n",
            "\u001b[36m(ClientAppActor pid=34634)\u001b[0m         \n",
            "\u001b[36m(ClientAppActor pid=34634)\u001b[0m \u001b[93mWARNING \u001b[0m:   Deprecation Warning: The `client_fn` function must return an instance of `Client`, but an instance of `NumpyClient` was returned. Please use `NumPyClient.to_client()` method to convert it to `Client`.\n",
            "\u001b[36m(ClientAppActor pid=34634)\u001b[0m \u001b[93mWARNING \u001b[0m:   DEPRECATED FEATURE: `client_fn` now expects a signature `def client_fn(context: Context)`.The provided `client_fn` has signature: {'cid': <Parameter \"cid: str\">}. You can import the `Context` like this: `from flwr.common import Context`\n",
            "\u001b[36m(ClientAppActor pid=34634)\u001b[0m \n",
            "\u001b[36m(ClientAppActor pid=34634)\u001b[0m             This is a deprecated feature. It will be removed\n",
            "\u001b[36m(ClientAppActor pid=34634)\u001b[0m             entirely in future versions of Flower.\n",
            "\u001b[36m(ClientAppActor pid=34634)\u001b[0m         \n",
            "\u001b[36m(ClientAppActor pid=34634)\u001b[0m \u001b[93mWARNING \u001b[0m:   Deprecation Warning: The `client_fn` function must return an instance of `Client`, but an instance of `NumpyClient` was returned. Please use `NumPyClient.to_client()` method to convert it to `Client`.\n",
            "\u001b[92mINFO \u001b[0m:      aggregate_fit: received 2 results and 0 failures\n",
            "\u001b[92mINFO \u001b[0m:      configure_evaluate: strategy sampled 2 clients (out of 2)\n",
            "\u001b[36m(ClientAppActor pid=34634)\u001b[0m \u001b[93mWARNING \u001b[0m:   DEPRECATED FEATURE: `client_fn` now expects a signature `def client_fn(context: Context)`.The provided `client_fn` has signature: {'cid': <Parameter \"cid: str\">}. You can import the `Context` like this: `from flwr.common import Context`\n",
            "\u001b[36m(ClientAppActor pid=34634)\u001b[0m \n",
            "\u001b[36m(ClientAppActor pid=34634)\u001b[0m             This is a deprecated feature. It will be removed\n",
            "\u001b[36m(ClientAppActor pid=34634)\u001b[0m             entirely in future versions of Flower.\n",
            "\u001b[36m(ClientAppActor pid=34634)\u001b[0m         \n",
            "\u001b[36m(ClientAppActor pid=34634)\u001b[0m \u001b[93mWARNING \u001b[0m:   Deprecation Warning: The `client_fn` function must return an instance of `Client`, but an instance of `NumpyClient` was returned. Please use `NumPyClient.to_client()` method to convert it to `Client`.\n",
            "\u001b[92mINFO \u001b[0m:      aggregate_evaluate: received 0 results and 2 failures\n",
            "\u001b[36m(ClientAppActor pid=34634)\u001b[0m \u001b[93mWARNING \u001b[0m:   DEPRECATED FEATURE: `client_fn` now expects a signature `def client_fn(context: Context)`.The provided `client_fn` has signature: {'cid': <Parameter \"cid: str\">}. You can import the `Context` like this: `from flwr.common import Context`\n",
            "\u001b[36m(ClientAppActor pid=34634)\u001b[0m \n",
            "\u001b[36m(ClientAppActor pid=34634)\u001b[0m             This is a deprecated feature. It will be removed\n",
            "\u001b[36m(ClientAppActor pid=34634)\u001b[0m             entirely in future versions of Flower.\n",
            "\u001b[36m(ClientAppActor pid=34634)\u001b[0m         \n",
            "\u001b[36m(ClientAppActor pid=34634)\u001b[0m \u001b[93mWARNING \u001b[0m:   Deprecation Warning: The `client_fn` function must return an instance of `Client`, but an instance of `NumpyClient` was returned. Please use `NumPyClient.to_client()` method to convert it to `Client`.\n",
            "\u001b[92mINFO \u001b[0m:      \n",
            "\u001b[92mINFO \u001b[0m:      [SUMMARY]\n",
            "\u001b[92mINFO \u001b[0m:      Run finished 3 round(s) in 217.60s\n",
            "\u001b[92mINFO \u001b[0m:      \n",
            "/usr/local/lib/python3.10/dist-packages/keras/src/layers/core/dense.py:87: UserWarning: Do not pass an `input_shape`/`input_dim` argument to a layer. When using Sequential models, prefer using an `Input(shape)` object as the first layer in the model instead.\n",
            "  super().__init__(activity_regularizer=activity_regularizer, **kwargs)\n",
            "\u001b[93mWARNING \u001b[0m:   DEPRECATED FEATURE: flwr.simulation.start_simulation() is deprecated.\n",
            "\tInstead, use the `flwr run` CLI command to start a local simulation in your Flower app, as shown for example below:\n",
            "\n",
            "\t\t$ flwr new  # Create a new Flower app from a template\n",
            "\n",
            "\t\t$ flwr run  # Run the Flower app in Simulation Mode\n",
            "\n",
            "\tUsing `start_simulation()` is deprecated.\n",
            "\n",
            "            This is a deprecated feature. It will be removed\n",
            "            entirely in future versions of Flower.\n",
            "        \n",
            "\u001b[92mINFO \u001b[0m:      Starting Flower simulation, config: num_rounds=3, no round_timeout\n",
            "2024-12-09 03:58:08,116\tINFO worker.py:1752 -- Started a local Ray instance.\n",
            "\u001b[92mINFO \u001b[0m:      Flower VCE: Ray initialized with resources: {'memory': 7982147175.0, 'object_store_memory': 3991073587.0, 'node:__internal_head__': 1.0, 'node:172.28.0.12': 1.0, 'CPU': 2.0}\n",
            "\u001b[92mINFO \u001b[0m:      Optimize your simulation with Flower VCE: https://flower.ai/docs/framework/how-to-run-simulations.html\n",
            "\u001b[92mINFO \u001b[0m:      Flower VCE: Resources for each Virtual Client: {'num_cpus': 2, 'num_gpus': 0}\n",
            "\u001b[92mINFO \u001b[0m:      Flower VCE: Creating VirtualClientEngineActorPool with 1 actors\n",
            "\u001b[92mINFO \u001b[0m:      [INIT]\n",
            "\u001b[92mINFO \u001b[0m:      Requesting initial parameters from one random client\n",
            "\u001b[36m(pid=36266)\u001b[0m 2024-12-09 03:58:11.774777: E external/local_xla/xla/stream_executor/cuda/cuda_fft.cc:485] Unable to register cuFFT factory: Attempting to register factory for plugin cuFFT when one has already been registered\n",
            "\u001b[36m(pid=36266)\u001b[0m 2024-12-09 03:58:11.799563: E external/local_xla/xla/stream_executor/cuda/cuda_dnn.cc:8454] Unable to register cuDNN factory: Attempting to register factory for plugin cuDNN when one has already been registered\n",
            "\u001b[36m(pid=36266)\u001b[0m 2024-12-09 03:58:11.809189: E external/local_xla/xla/stream_executor/cuda/cuda_blas.cc:1452] Unable to register cuBLAS factory: Attempting to register factory for plugin cuBLAS when one has already been registered\n",
            "\u001b[36m(pid=36266)\u001b[0m 2024-12-09 03:58:13.346444: W tensorflow/compiler/tf2tensorrt/utils/py_utils.cc:38] TF-TRT Warning: Could not find TensorRT\n",
            "\u001b[36m(ClientAppActor pid=36266)\u001b[0m /usr/local/lib/python3.10/dist-packages/keras/src/saving/saving_lib.py:713: UserWarning: Skipping variable loading for optimizer 'nadam', because it has 15 variables whereas the saved optimizer has 2 variables. \n",
            "\u001b[36m(ClientAppActor pid=36266)\u001b[0m   saveable.load_own_variables(weights_store.get(inner_path))\n",
            "\u001b[36m(ClientAppActor pid=36266)\u001b[0m \u001b[93mWARNING \u001b[0m:   DEPRECATED FEATURE: `client_fn` now expects a signature `def client_fn(context: Context)`.The provided `client_fn` has signature: {'cid': <Parameter \"cid: str\">}. You can import the `Context` like this: `from flwr.common import Context`\n",
            "\u001b[36m(ClientAppActor pid=36266)\u001b[0m \n",
            "\u001b[36m(ClientAppActor pid=36266)\u001b[0m             This is a deprecated feature. It will be removed\n",
            "\u001b[36m(ClientAppActor pid=36266)\u001b[0m             entirely in future versions of Flower.\n",
            "\u001b[36m(ClientAppActor pid=36266)\u001b[0m         \n",
            "\u001b[36m(ClientAppActor pid=36266)\u001b[0m \u001b[93mWARNING \u001b[0m:   Deprecation Warning: The `client_fn` function must return an instance of `Client`, but an instance of `NumpyClient` was returned. Please use `NumPyClient.to_client()` method to convert it to `Client`.\n",
            "\u001b[92mINFO \u001b[0m:      Received initial parameters from one random client\n",
            "\u001b[92mINFO \u001b[0m:      Starting evaluation of initial global parameters\n",
            "\u001b[92mINFO \u001b[0m:      Evaluation returned no results (`None`)\n",
            "\u001b[92mINFO \u001b[0m:      \n",
            "\u001b[92mINFO \u001b[0m:      [ROUND 1]\n",
            "\u001b[92mINFO \u001b[0m:      configure_fit: strategy sampled 2 clients (out of 2)\n",
            "\u001b[36m(ClientAppActor pid=36266)\u001b[0m \u001b[93mWARNING \u001b[0m:   DEPRECATED FEATURE: `client_fn` now expects a signature `def client_fn(context: Context)`.The provided `client_fn` has signature: {'cid': <Parameter \"cid: str\">}. You can import the `Context` like this: `from flwr.common import Context`\n",
            "\u001b[36m(ClientAppActor pid=36266)\u001b[0m \n",
            "\u001b[36m(ClientAppActor pid=36266)\u001b[0m             This is a deprecated feature. It will be removed\n",
            "\u001b[36m(ClientAppActor pid=36266)\u001b[0m             entirely in future versions of Flower.\n",
            "\u001b[36m(ClientAppActor pid=36266)\u001b[0m         \n",
            "\u001b[36m(ClientAppActor pid=36266)\u001b[0m \u001b[93mWARNING \u001b[0m:   Deprecation Warning: The `client_fn` function must return an instance of `Client`, but an instance of `NumpyClient` was returned. Please use `NumPyClient.to_client()` method to convert it to `Client`.\n",
            "\u001b[36m(ClientAppActor pid=36266)\u001b[0m \u001b[93mWARNING \u001b[0m:   DEPRECATED FEATURE: `client_fn` now expects a signature `def client_fn(context: Context)`.The provided `client_fn` has signature: {'cid': <Parameter \"cid: str\">}. You can import the `Context` like this: `from flwr.common import Context`\n",
            "\u001b[36m(ClientAppActor pid=36266)\u001b[0m \n",
            "\u001b[36m(ClientAppActor pid=36266)\u001b[0m             This is a deprecated feature. It will be removed\n",
            "\u001b[36m(ClientAppActor pid=36266)\u001b[0m             entirely in future versions of Flower.\n",
            "\u001b[36m(ClientAppActor pid=36266)\u001b[0m         \n",
            "\u001b[36m(ClientAppActor pid=36266)\u001b[0m \u001b[93mWARNING \u001b[0m:   Deprecation Warning: The `client_fn` function must return an instance of `Client`, but an instance of `NumpyClient` was returned. Please use `NumPyClient.to_client()` method to convert it to `Client`.\n",
            "\u001b[92mINFO \u001b[0m:      aggregate_fit: received 2 results and 0 failures\n",
            "\u001b[93mWARNING \u001b[0m:   No fit_metrics_aggregation_fn provided\n",
            "\u001b[92mINFO \u001b[0m:      configure_evaluate: strategy sampled 2 clients (out of 2)\n",
            "\u001b[36m(ClientAppActor pid=36266)\u001b[0m \u001b[93mWARNING \u001b[0m:   DEPRECATED FEATURE: `client_fn` now expects a signature `def client_fn(context: Context)`.The provided `client_fn` has signature: {'cid': <Parameter \"cid: str\">}. You can import the `Context` like this: `from flwr.common import Context`\n",
            "\u001b[36m(ClientAppActor pid=36266)\u001b[0m \n",
            "\u001b[36m(ClientAppActor pid=36266)\u001b[0m             This is a deprecated feature. It will be removed\n",
            "\u001b[36m(ClientAppActor pid=36266)\u001b[0m             entirely in future versions of Flower.\n",
            "\u001b[36m(ClientAppActor pid=36266)\u001b[0m         \n",
            "\u001b[36m(ClientAppActor pid=36266)\u001b[0m \u001b[93mWARNING \u001b[0m:   Deprecation Warning: The `client_fn` function must return an instance of `Client`, but an instance of `NumpyClient` was returned. Please use `NumPyClient.to_client()` method to convert it to `Client`.\n",
            "\u001b[92mINFO \u001b[0m:      aggregate_evaluate: received 0 results and 2 failures\n",
            "\u001b[92mINFO \u001b[0m:      \n",
            "\u001b[92mINFO \u001b[0m:      [ROUND 2]\n",
            "\u001b[92mINFO \u001b[0m:      configure_fit: strategy sampled 2 clients (out of 2)\n",
            "\u001b[36m(ClientAppActor pid=36266)\u001b[0m \u001b[93mWARNING \u001b[0m:   DEPRECATED FEATURE: `client_fn` now expects a signature `def client_fn(context: Context)`.The provided `client_fn` has signature: {'cid': <Parameter \"cid: str\">}. You can import the `Context` like this: `from flwr.common import Context`\n",
            "\u001b[36m(ClientAppActor pid=36266)\u001b[0m \n",
            "\u001b[36m(ClientAppActor pid=36266)\u001b[0m             This is a deprecated feature. It will be removed\n",
            "\u001b[36m(ClientAppActor pid=36266)\u001b[0m             entirely in future versions of Flower.\n",
            "\u001b[36m(ClientAppActor pid=36266)\u001b[0m         \n",
            "\u001b[36m(ClientAppActor pid=36266)\u001b[0m \u001b[93mWARNING \u001b[0m:   Deprecation Warning: The `client_fn` function must return an instance of `Client`, but an instance of `NumpyClient` was returned. Please use `NumPyClient.to_client()` method to convert it to `Client`.\n",
            "\u001b[36m(ClientAppActor pid=36266)\u001b[0m \u001b[93mWARNING \u001b[0m:   DEPRECATED FEATURE: `client_fn` now expects a signature `def client_fn(context: Context)`.The provided `client_fn` has signature: {'cid': <Parameter \"cid: str\">}. You can import the `Context` like this: `from flwr.common import Context`\n",
            "\u001b[36m(ClientAppActor pid=36266)\u001b[0m \n",
            "\u001b[36m(ClientAppActor pid=36266)\u001b[0m             This is a deprecated feature. It will be removed\n",
            "\u001b[36m(ClientAppActor pid=36266)\u001b[0m             entirely in future versions of Flower.\n",
            "\u001b[36m(ClientAppActor pid=36266)\u001b[0m         \n",
            "\u001b[36m(ClientAppActor pid=36266)\u001b[0m \u001b[93mWARNING \u001b[0m:   Deprecation Warning: The `client_fn` function must return an instance of `Client`, but an instance of `NumpyClient` was returned. Please use `NumPyClient.to_client()` method to convert it to `Client`.\n",
            "\u001b[36m(ClientAppActor pid=36266)\u001b[0m \u001b[93mWARNING \u001b[0m:   DEPRECATED FEATURE: `client_fn` now expects a signature `def client_fn(context: Context)`.The provided `client_fn` has signature: {'cid': <Parameter \"cid: str\">}. You can import the `Context` like this: `from flwr.common import Context`\n",
            "\u001b[36m(ClientAppActor pid=36266)\u001b[0m \n",
            "\u001b[36m(ClientAppActor pid=36266)\u001b[0m             This is a deprecated feature. It will be removed\n",
            "\u001b[36m(ClientAppActor pid=36266)\u001b[0m             entirely in future versions of Flower.\n",
            "\u001b[36m(ClientAppActor pid=36266)\u001b[0m         \n",
            "\u001b[36m(ClientAppActor pid=36266)\u001b[0m \u001b[93mWARNING \u001b[0m:   Deprecation Warning: The `client_fn` function must return an instance of `Client`, but an instance of `NumpyClient` was returned. Please use `NumPyClient.to_client()` method to convert it to `Client`.\n",
            "\u001b[92mINFO \u001b[0m:      aggregate_fit: received 2 results and 0 failures\n",
            "\u001b[92mINFO \u001b[0m:      configure_evaluate: strategy sampled 2 clients (out of 2)\n",
            "\u001b[36m(ClientAppActor pid=36266)\u001b[0m \u001b[93mWARNING \u001b[0m:   DEPRECATED FEATURE: `client_fn` now expects a signature `def client_fn(context: Context)`.The provided `client_fn` has signature: {'cid': <Parameter \"cid: str\">}. You can import the `Context` like this: `from flwr.common import Context`\n",
            "\u001b[36m(ClientAppActor pid=36266)\u001b[0m \n",
            "\u001b[36m(ClientAppActor pid=36266)\u001b[0m             This is a deprecated feature. It will be removed\n",
            "\u001b[36m(ClientAppActor pid=36266)\u001b[0m             entirely in future versions of Flower.\n",
            "\u001b[36m(ClientAppActor pid=36266)\u001b[0m         \n",
            "\u001b[36m(ClientAppActor pid=36266)\u001b[0m \u001b[93mWARNING \u001b[0m:   Deprecation Warning: The `client_fn` function must return an instance of `Client`, but an instance of `NumpyClient` was returned. Please use `NumPyClient.to_client()` method to convert it to `Client`.\n",
            "\u001b[92mINFO \u001b[0m:      aggregate_evaluate: received 0 results and 2 failures\n",
            "\u001b[92mINFO \u001b[0m:      \n",
            "\u001b[92mINFO \u001b[0m:      [ROUND 3]\n",
            "\u001b[92mINFO \u001b[0m:      configure_fit: strategy sampled 2 clients (out of 2)\n",
            "\u001b[36m(ClientAppActor pid=36266)\u001b[0m \u001b[93mWARNING \u001b[0m:   DEPRECATED FEATURE: `client_fn` now expects a signature `def client_fn(context: Context)`.The provided `client_fn` has signature: {'cid': <Parameter \"cid: str\">}. You can import the `Context` like this: `from flwr.common import Context`\n",
            "\u001b[36m(ClientAppActor pid=36266)\u001b[0m \n",
            "\u001b[36m(ClientAppActor pid=36266)\u001b[0m             This is a deprecated feature. It will be removed\n",
            "\u001b[36m(ClientAppActor pid=36266)\u001b[0m             entirely in future versions of Flower.\n",
            "\u001b[36m(ClientAppActor pid=36266)\u001b[0m         \n",
            "\u001b[36m(ClientAppActor pid=36266)\u001b[0m \u001b[93mWARNING \u001b[0m:   Deprecation Warning: The `client_fn` function must return an instance of `Client`, but an instance of `NumpyClient` was returned. Please use `NumPyClient.to_client()` method to convert it to `Client`.\n",
            "\u001b[36m(ClientAppActor pid=36266)\u001b[0m \u001b[93mWARNING \u001b[0m:   DEPRECATED FEATURE: `client_fn` now expects a signature `def client_fn(context: Context)`.The provided `client_fn` has signature: {'cid': <Parameter \"cid: str\">}. You can import the `Context` like this: `from flwr.common import Context`\n",
            "\u001b[36m(ClientAppActor pid=36266)\u001b[0m \n",
            "\u001b[36m(ClientAppActor pid=36266)\u001b[0m             This is a deprecated feature. It will be removed\n",
            "\u001b[36m(ClientAppActor pid=36266)\u001b[0m             entirely in future versions of Flower.\n",
            "\u001b[36m(ClientAppActor pid=36266)\u001b[0m         \n",
            "\u001b[36m(ClientAppActor pid=36266)\u001b[0m \u001b[93mWARNING \u001b[0m:   Deprecation Warning: The `client_fn` function must return an instance of `Client`, but an instance of `NumpyClient` was returned. Please use `NumPyClient.to_client()` method to convert it to `Client`.\n",
            "\u001b[36m(ClientAppActor pid=36266)\u001b[0m \u001b[93mWARNING \u001b[0m:   DEPRECATED FEATURE: `client_fn` now expects a signature `def client_fn(context: Context)`.The provided `client_fn` has signature: {'cid': <Parameter \"cid: str\">}. You can import the `Context` like this: `from flwr.common import Context`\n",
            "\u001b[36m(ClientAppActor pid=36266)\u001b[0m \n",
            "\u001b[36m(ClientAppActor pid=36266)\u001b[0m             This is a deprecated feature. It will be removed\n",
            "\u001b[36m(ClientAppActor pid=36266)\u001b[0m             entirely in future versions of Flower.\n",
            "\u001b[36m(ClientAppActor pid=36266)\u001b[0m         \n",
            "\u001b[36m(ClientAppActor pid=36266)\u001b[0m \u001b[93mWARNING \u001b[0m:   Deprecation Warning: The `client_fn` function must return an instance of `Client`, but an instance of `NumpyClient` was returned. Please use `NumPyClient.to_client()` method to convert it to `Client`.\n",
            "\u001b[92mINFO \u001b[0m:      aggregate_fit: received 2 results and 0 failures\n",
            "\u001b[92mINFO \u001b[0m:      configure_evaluate: strategy sampled 2 clients (out of 2)\n",
            "\u001b[36m(ClientAppActor pid=36266)\u001b[0m \u001b[93mWARNING \u001b[0m:   DEPRECATED FEATURE: `client_fn` now expects a signature `def client_fn(context: Context)`.The provided `client_fn` has signature: {'cid': <Parameter \"cid: str\">}. You can import the `Context` like this: `from flwr.common import Context`\n",
            "\u001b[36m(ClientAppActor pid=36266)\u001b[0m \n",
            "\u001b[36m(ClientAppActor pid=36266)\u001b[0m             This is a deprecated feature. It will be removed\n",
            "\u001b[36m(ClientAppActor pid=36266)\u001b[0m             entirely in future versions of Flower.\n",
            "\u001b[36m(ClientAppActor pid=36266)\u001b[0m         \n",
            "\u001b[36m(ClientAppActor pid=36266)\u001b[0m \u001b[93mWARNING \u001b[0m:   Deprecation Warning: The `client_fn` function must return an instance of `Client`, but an instance of `NumpyClient` was returned. Please use `NumPyClient.to_client()` method to convert it to `Client`.\n",
            "\u001b[92mINFO \u001b[0m:      aggregate_evaluate: received 0 results and 2 failures\n",
            "\u001b[92mINFO \u001b[0m:      \n",
            "\u001b[92mINFO \u001b[0m:      [SUMMARY]\n",
            "\u001b[92mINFO \u001b[0m:      Run finished 3 round(s) in 212.50s\n",
            "\u001b[92mINFO \u001b[0m:      \n"
          ]
        }
      ]
    },
    {
      "cell_type": "markdown",
      "source": [
        "# Test model with Distributed Training"
      ],
      "metadata": {
        "id": "hXO-LCzz15JX"
      }
    },
    {
      "cell_type": "markdown",
      "source": [
        "Bước 11 - Đọc dữ liệu test"
      ],
      "metadata": {
        "id": "XGOEjbHsxHqe"
      }
    },
    {
      "cell_type": "code",
      "source": [
        "# Prepare Data for Testing - Vẫn con Test data còn lưu lại.\n",
        "test_df= pd.read_csv(\"./test_data.csv\")\n"
      ],
      "metadata": {
        "id": "ZcUl9SXH2HTu"
      },
      "execution_count": null,
      "outputs": []
    },
    {
      "cell_type": "markdown",
      "source": [
        "## Thực hiện test cho model Nhị phân - Chạy từ trên xuống theo thứ tự."
      ],
      "metadata": {
        "id": "dQSYNL9GSHa2"
      }
    },
    {
      "cell_type": "code",
      "source": [
        "test_df[\"Label\"] = np.where(test_df[\"Label\"] == 0, 0, 1)\n",
        "test_df[\"Label\"].value_counts()"
      ],
      "metadata": {
        "colab": {
          "base_uri": "https://localhost:8080/",
          "height": 178
        },
        "id": "-bWK0R6Pfxk9",
        "outputId": "d08afb07-2b1d-425d-dbdc-7c3f780f170d"
      },
      "execution_count": null,
      "outputs": [
        {
          "output_type": "execute_result",
          "data": {
            "text/plain": [
              "Label\n",
              "0    71591\n",
              "1    17992\n",
              "Name: count, dtype: int64"
            ],
            "text/html": [
              "<div>\n",
              "<style scoped>\n",
              "    .dataframe tbody tr th:only-of-type {\n",
              "        vertical-align: middle;\n",
              "    }\n",
              "\n",
              "    .dataframe tbody tr th {\n",
              "        vertical-align: top;\n",
              "    }\n",
              "\n",
              "    .dataframe thead th {\n",
              "        text-align: right;\n",
              "    }\n",
              "</style>\n",
              "<table border=\"1\" class=\"dataframe\">\n",
              "  <thead>\n",
              "    <tr style=\"text-align: right;\">\n",
              "      <th></th>\n",
              "      <th>count</th>\n",
              "    </tr>\n",
              "    <tr>\n",
              "      <th>Label</th>\n",
              "      <th></th>\n",
              "    </tr>\n",
              "  </thead>\n",
              "  <tbody>\n",
              "    <tr>\n",
              "      <th>0</th>\n",
              "      <td>71591</td>\n",
              "    </tr>\n",
              "    <tr>\n",
              "      <th>1</th>\n",
              "      <td>17992</td>\n",
              "    </tr>\n",
              "  </tbody>\n",
              "</table>\n",
              "</div><br><label><b>dtype:</b> int64</label>"
            ]
          },
          "metadata": {},
          "execution_count": 58
        }
      ]
    },
    {
      "cell_type": "code",
      "source": [
        "model_test = load_model('/content/models/binary/i_0.keras')\n",
        "y_pred = model_test.predict(test_df.iloc[:,:-1])"
      ],
      "metadata": {
        "id": "yXjLx_SUiADH"
      },
      "execution_count": null,
      "outputs": []
    },
    {
      "cell_type": "code",
      "source": [
        "optimal_threshold = 0.5\n",
        "y_pred_prob = (y_pred > optimal_threshold).astype(\"int32\")\n",
        "print(confusion_matrix(test_df[\"Label\"],y_pred_prob))"
      ],
      "metadata": {
        "id": "54_94_MuiR_m"
      },
      "execution_count": null,
      "outputs": []
    },
    {
      "cell_type": "code",
      "source": [
        "result = []\n",
        "for _ in range(2):\n",
        "\n",
        "    output_model = f\"./models/binary/i_{_}.keras\"\n",
        "    print('--------------------Model thứ: ', _ )\n",
        "    model = load_model(output_model)\n",
        "    s = model_report_list(model, test_df.copy())\n",
        "    #s = model_report_list_multiclass(model, test_data.copy())\n",
        "\n",
        "    result.append(s)\n",
        "    del model"
      ],
      "metadata": {
        "id": "jaraDK_xSTK3",
        "colab": {
          "base_uri": "https://localhost:8080/"
        },
        "outputId": "3237314b-e536-4e65-9533-bc1f0700b3fb"
      },
      "execution_count": null,
      "outputs": [
        {
          "output_type": "stream",
          "name": "stdout",
          "text": [
            "--------------------Model thứ:  0\n"
          ]
        },
        {
          "output_type": "stream",
          "name": "stderr",
          "text": [
            "/usr/local/lib/python3.10/dist-packages/keras/src/saving/saving_lib.py:713: UserWarning: Skipping variable loading for optimizer 'nadam', because it has 15 variables whereas the saved optimizer has 2 variables. \n",
            "  saveable.load_own_variables(weights_store.get(inner_path))\n"
          ]
        },
        {
          "output_type": "stream",
          "name": "stdout",
          "text": [
            "--------------------Model thứ:  1\n"
          ]
        },
        {
          "output_type": "stream",
          "name": "stderr",
          "text": [
            "/usr/local/lib/python3.10/dist-packages/keras/src/saving/saving_lib.py:713: UserWarning: Skipping variable loading for optimizer 'nadam', because it has 15 variables whereas the saved optimizer has 2 variables. \n",
            "  saveable.load_own_variables(weights_store.get(inner_path))\n"
          ]
        }
      ]
    },
    {
      "cell_type": "code",
      "source": [
        "def model_report_list(model, df_test):\n",
        "    result = []\n",
        "\n",
        "    x_test = df_test.iloc[:, :-1]\n",
        "    y_test = df_test[\"Label\"]\n",
        "\n",
        "    # Get model predictions for the test data\n",
        "    y_pred_prob = model.predict(x_test, verbose=0)\n",
        "\n",
        "    optimal_threshold = 0.5\n",
        "\n",
        "    y_pred = (y_pred_prob > optimal_threshold).astype(\"int32\")\n",
        "\n",
        "    df_test[\"PLabel\"] = y_pred\n",
        "\n",
        "    # Calculate F1 Score\n",
        "    f1 = f1_score(y_test, y_pred)\n",
        "    result.append(('F1 Score', f1))\n",
        "\n",
        "    # Calculate AUC\n",
        "    auc_score = roc_auc_score(y_test, y_pred_prob)\n",
        "    result.append(('AUC', auc_score))\n",
        "\n",
        "    # Calculate Average Precision\n",
        "    avg_precision = average_precision_score(y_test, y_pred_prob)\n",
        "    result.append(('Average Precision', avg_precision))\n",
        "\n",
        "    # Calculate Precision\n",
        "    precision = precision_score(y_test, y_pred)\n",
        "    result.append(('Precision', precision))\n",
        "\n",
        "    # Calculate Recall\n",
        "    recall = recall_score(y_test, y_pred)\n",
        "    result.append(('Recall', recall))\n",
        "\n",
        "    confusion_mat = confusion_matrix(y_test, y_pred)\n",
        "\n",
        "    FP = confusion_mat[0][1]\n",
        "    FN = confusion_mat[1][0]\n",
        "\n",
        "    TP = confusion_mat[1][1]\n",
        "    TN = confusion_mat[0][0]\n",
        "\n",
        "    FPR = FP / (FP + TN) if (FP + TN) > 0 else 0  # Avoid division by zero\n",
        "    FNR = FN / (FN + TP) if (FN + TP) > 0 else 0  # Avoid division by zero\n",
        "\n",
        "    result.append(('False Positive Rate', FPR))\n",
        "    result.append(('False Negative Rate', FNR))\n",
        "\n",
        "    del model\n",
        "\n",
        "    return result"
      ],
      "metadata": {
        "id": "SuXlWsjE18YP"
      },
      "execution_count": null,
      "outputs": []
    },
    {
      "cell_type": "code",
      "source": [
        "data = {}\n",
        "\n",
        "# Iterate through each tuple in the first list to use as keys and create lists for their values\n",
        "for metric, value in result[0]:\n",
        "    data[metric] = []\n",
        "\n",
        "# Fill the lists with values from each corresponding position in the remaining lists\n",
        "for res in result:\n",
        "    for i, (metric, value) in enumerate(res):\n",
        "        data[metric].append(value)\n",
        "\n",
        "# Convert the dictionary into a DataFrame\n",
        "result_df = pd.DataFrame(data)\n",
        "\n",
        "print('MEAN_AVG')\n",
        "print(\"-\"*100)\n",
        "print(result_df.mean(axis=0))\n",
        "print(\"-\"*100)"
      ],
      "metadata": {
        "id": "_5ewd_lbPwqk",
        "colab": {
          "base_uri": "https://localhost:8080/"
        },
        "outputId": "0244a414-3488-4cf3-b247-393bc7ed7bbd"
      },
      "execution_count": null,
      "outputs": [
        {
          "output_type": "stream",
          "name": "stdout",
          "text": [
            "MEAN_AVG\n",
            "----------------------------------------------------------------------------------------------------\n",
            "F1 Score               0.949063\n",
            "AUC                    0.994243\n",
            "Average Precision      0.969495\n",
            "Precision              0.907971\n",
            "Recall                 0.994108\n",
            "False Positive Rate    0.025338\n",
            "False Negative Rate    0.005892\n",
            "dtype: float64\n",
            "----------------------------------------------------------------------------------------------------\n"
          ]
        }
      ]
    },
    {
      "cell_type": "markdown",
      "source": [
        "## Thực hiện test cho model Phân loại và xuất kết quả - chạy từ trên xuống"
      ],
      "metadata": {
        "id": "Ccl0yIy4Pxrn"
      }
    },
    {
      "cell_type": "code",
      "source": [
        "from sklearn.metrics import classification_report, confusion_matrix\n",
        "\n",
        "def model_report_list_multiclass(model, df_test):\n",
        "    result = []\n",
        "\n",
        "    x_test = df_test.iloc[:, :-1]\n",
        "    y_test = df_test[\"Label\"]\n",
        "\n",
        "    # Get model predictions for the test data\n",
        "    y_pred_prob = model.predict(x_test, verbose=0)\n",
        "\n",
        "    # Get predicted labels for multiclass\n",
        "    y_pred = y_pred_prob.argmax(axis=1)\n",
        "\n",
        "    df_test[\"PLabel\"] = y_pred\n",
        "\n",
        "    mapped_y_pred = [encoded_to_original[label] for label in y_pred]\n",
        "    mapped_y_test = [encoded_to_original[label] for label in y_test]\n",
        "\n",
        "    # Generate classification report\n",
        "    class_report = classification_report(mapped_y_test, mapped_y_pred, output_dict=True)\n",
        "    #print(class_report)\n",
        "    result.append(('Classification Report', class_report))\n",
        "\n",
        "    # # Calculate confusion matrix\n",
        "    # confusion_mat = confusion_matrix(y_test, y_pred)\n",
        "    # result.append(('Confusion Matrix', confusion_mat))\n",
        "\n",
        "    del model\n",
        "\n",
        "    return result\n"
      ],
      "metadata": {
        "id": "-r4H6XVPAVja"
      },
      "execution_count": null,
      "outputs": []
    },
    {
      "cell_type": "markdown",
      "source": [
        "Report-Multiclass"
      ],
      "metadata": {
        "id": "ZzpsMA3FAxTZ"
      }
    },
    {
      "cell_type": "code",
      "source": [
        "result = []\n",
        "for _ in range(2):\n",
        "\n",
        "    output_model = f\"./models/multiclass/i_{_}.keras\"\n",
        "    print('--------------------Model thứ: ', _ )\n",
        "    model = load_model(output_model)\n",
        "    #s = model_report_list(model, test_data.copy())\n",
        "    s = model_report_list_multiclass(model, test_data.copy())\n",
        "\n",
        "    result.append(s)\n",
        "    del model"
      ],
      "metadata": {
        "colab": {
          "base_uri": "https://localhost:8080/"
        },
        "id": "ZHzQeYwN2Cau",
        "outputId": "13344df0-b02c-43ef-c7a2-6dfea6989e04"
      },
      "execution_count": null,
      "outputs": [
        {
          "output_type": "stream",
          "name": "stdout",
          "text": [
            "--------------------Model thứ:  0\n"
          ]
        },
        {
          "output_type": "stream",
          "name": "stderr",
          "text": [
            "/usr/local/lib/python3.10/dist-packages/keras/src/saving/saving_lib.py:713: UserWarning: Skipping variable loading for optimizer 'nadam', because it has 15 variables whereas the saved optimizer has 2 variables. \n",
            "  saveable.load_own_variables(weights_store.get(inner_path))\n",
            "/usr/local/lib/python3.10/dist-packages/sklearn/metrics/_classification.py:1531: UndefinedMetricWarning: Precision is ill-defined and being set to 0.0 in labels with no predicted samples. Use `zero_division` parameter to control this behavior.\n",
            "  _warn_prf(average, modifier, f\"{metric.capitalize()} is\", len(result))\n",
            "/usr/local/lib/python3.10/dist-packages/sklearn/metrics/_classification.py:1531: UndefinedMetricWarning: Precision is ill-defined and being set to 0.0 in labels with no predicted samples. Use `zero_division` parameter to control this behavior.\n",
            "  _warn_prf(average, modifier, f\"{metric.capitalize()} is\", len(result))\n",
            "/usr/local/lib/python3.10/dist-packages/sklearn/metrics/_classification.py:1531: UndefinedMetricWarning: Precision is ill-defined and being set to 0.0 in labels with no predicted samples. Use `zero_division` parameter to control this behavior.\n",
            "  _warn_prf(average, modifier, f\"{metric.capitalize()} is\", len(result))\n"
          ]
        },
        {
          "output_type": "stream",
          "name": "stdout",
          "text": [
            "--------------------Model thứ:  1\n"
          ]
        },
        {
          "output_type": "stream",
          "name": "stderr",
          "text": [
            "/usr/local/lib/python3.10/dist-packages/keras/src/saving/saving_lib.py:713: UserWarning: Skipping variable loading for optimizer 'nadam', because it has 15 variables whereas the saved optimizer has 2 variables. \n",
            "  saveable.load_own_variables(weights_store.get(inner_path))\n",
            "/usr/local/lib/python3.10/dist-packages/sklearn/metrics/_classification.py:1531: UndefinedMetricWarning: Precision is ill-defined and being set to 0.0 in labels with no predicted samples. Use `zero_division` parameter to control this behavior.\n",
            "  _warn_prf(average, modifier, f\"{metric.capitalize()} is\", len(result))\n",
            "/usr/local/lib/python3.10/dist-packages/sklearn/metrics/_classification.py:1531: UndefinedMetricWarning: Precision is ill-defined and being set to 0.0 in labels with no predicted samples. Use `zero_division` parameter to control this behavior.\n",
            "  _warn_prf(average, modifier, f\"{metric.capitalize()} is\", len(result))\n",
            "/usr/local/lib/python3.10/dist-packages/sklearn/metrics/_classification.py:1531: UndefinedMetricWarning: Precision is ill-defined and being set to 0.0 in labels with no predicted samples. Use `zero_division` parameter to control this behavior.\n",
            "  _warn_prf(average, modifier, f\"{metric.capitalize()} is\", len(result))\n"
          ]
        }
      ]
    },
    {
      "cell_type": "markdown",
      "source": [
        "Chạy lệnh dưới để in ra thông tin các thông số tương ứng với từng Class trong phân loại tấn công."
      ],
      "metadata": {
        "id": "RfG1AY8wxutW"
      }
    },
    {
      "cell_type": "code",
      "source": [
        "import pandas as pd\n",
        "\n",
        "# Tạo một DataFrame để lưu các giá trị trung bình\n",
        "df_avg_classes = pd.DataFrame(columns=['precision', 'recall', 'f1-score', 'support', 'accuracy'])\n",
        "\n",
        "# Lấy các class từ báo cáo đầu tiên\n",
        "classes = list(result[0][0][1].keys())  # result[0][0][1] chứa dictionary của classification report\n",
        "\n",
        "# Xóa các chỉ số tổng hợp (macro avg, weighted avg, accuracy, support)\n",
        "classes = [cls for cls in classes if cls not in ['accuracy', 'macro avg', 'weighted avg']]\n",
        "\n",
        "# Tính trung bình cho từng class và lấy support từ báo cáo đầu tiên\n",
        "for cls in classes:\n",
        "    precision_avg = 0\n",
        "    recall_avg = 0\n",
        "    f1_avg = 0\n",
        "    # Lặp qua các báo cáo trong result để tính trung bình precision, recall, f1-score\n",
        "    for report in result:\n",
        "        precision_avg += report[0][1][cls]['precision']\n",
        "        recall_avg += report[0][1][cls]['recall']\n",
        "        f1_avg += report[0][1][cls]['f1-score']\n",
        "\n",
        "    # Tính trung bình\n",
        "    num_reports = len(result)\n",
        "\n",
        "    # Lấy support từ báo cáo đầu tiên\n",
        "    support = result[0][0][1][cls]['support']\n",
        "\n",
        "    df_avg_classes.loc[cls] = [\n",
        "        precision_avg / num_reports,\n",
        "        recall_avg / num_reports,\n",
        "        f1_avg / num_reports,\n",
        "        support,  # Thêm support vào DataFrame\n",
        "        None  # Sẽ tính accuracy sau\n",
        "    ]\n",
        "\n",
        "# Tính trung bình cho các chỉ số tổng hợp (macro avg và weighted avg)\n",
        "for avg_type in ['macro avg', 'weighted avg']:\n",
        "    precision_avg = 0\n",
        "    recall_avg = 0\n",
        "    f1_avg = 0\n",
        "    for report in result:\n",
        "        precision_avg += report[0][1][avg_type]['precision']\n",
        "        recall_avg += report[0][1][avg_type]['recall']\n",
        "        f1_avg += report[0][1][avg_type]['f1-score']\n",
        "\n",
        "    # Sử dụng support từ 'macro avg' trong báo cáo đầu tiên\n",
        "    support = result[0][0][1][avg_type]['support'] if avg_type in result[0][0][1] and 'support' in result[0][0][1][avg_type] else None\n",
        "\n",
        "    df_avg_classes.loc[avg_type] = [\n",
        "        precision_avg / num_reports,\n",
        "        recall_avg / num_reports,\n",
        "        f1_avg / num_reports,\n",
        "        support,  # Thêm support nếu có\n",
        "        None  # Sẽ tính accuracy sau\n",
        "    ]\n",
        "\n",
        "# Tính trung bình accuracy cho tất cả các mô hình\n",
        "accuracy_avg = 0\n",
        "for report in result:\n",
        "    accuracy_avg += report[0][1]['accuracy']\n",
        "\n",
        "df_avg_classes['accuracy'] = accuracy_avg / num_reports\n",
        "\n",
        "# In kết quả trung bình\n",
        "print(df_avg_classes)"
      ],
      "metadata": {
        "colab": {
          "base_uri": "https://localhost:8080/"
        },
        "id": "Khp3Ty_LNw64",
        "outputId": "fb38c53d-af78-4a29-a385-fecb1b386db5"
      },
      "execution_count": null,
      "outputs": [
        {
          "output_type": "stream",
          "name": "stdout",
          "text": [
            "                precision    recall  f1-score  support  accuracy\n",
            "Analysis         0.000000  0.000000  0.000000     75.0  0.913276\n",
            "Backdoor         0.000000  0.000000  0.000000     90.0  0.913276\n",
            "Benign           0.999448  0.973537  0.986322  71591.0  0.913276\n",
            "DoS              0.928571  0.008037  0.015935    871.0  0.913276\n",
            "Exploits         0.742485  0.664342  0.701178   6237.0  0.913276\n",
            "Fuzzers          0.494579  0.933755  0.646649   6008.0  0.913276\n",
            "Generic          0.846335  0.326206  0.470885    912.0  0.913276\n",
            "Reconnaissance   0.804409  0.616248  0.697389   3342.0  0.913276\n",
            "Shellcode        0.000000  0.000000  0.000000    413.0  0.913276\n",
            "Worms            0.000000  0.000000  0.000000     44.0  0.913276\n",
            "macro avg        0.481583  0.352212  0.351836  89583.0  0.913276\n",
            "weighted avg     0.931234  0.913276  0.911380  89583.0  0.913276\n"
          ]
        }
      ]
    }
  ]
}